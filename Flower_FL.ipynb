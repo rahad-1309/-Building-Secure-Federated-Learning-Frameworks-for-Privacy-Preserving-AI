{
  "cells": [
    {
      "cell_type": "code",
      "execution_count": null,
      "metadata": {
        "colab": {
          "base_uri": "https://localhost:8080/"
        },
        "id": "9orSp7QLPtQ0",
        "outputId": "e3e66622-0e1a-4fe5-c0fd-0ebf39f47e24"
      },
      "outputs": [
        {
          "output_type": "stream",
          "name": "stdout",
          "text": [
            "Fri Sep  8 13:03:30 2023       \n",
            "+-----------------------------------------------------------------------------+\n",
            "| NVIDIA-SMI 525.105.17   Driver Version: 525.105.17   CUDA Version: 12.0     |\n",
            "|-------------------------------+----------------------+----------------------+\n",
            "| GPU  Name        Persistence-M| Bus-Id        Disp.A | Volatile Uncorr. ECC |\n",
            "| Fan  Temp  Perf  Pwr:Usage/Cap|         Memory-Usage | GPU-Util  Compute M. |\n",
            "|                               |                      |               MIG M. |\n",
            "|===============================+======================+======================|\n",
            "|   0  Tesla T4            Off  | 00000000:00:04.0 Off |                    0 |\n",
            "| N/A   57C    P8    10W /  70W |      0MiB / 15360MiB |      0%      Default |\n",
            "|                               |                      |                  N/A |\n",
            "+-------------------------------+----------------------+----------------------+\n",
            "                                                                               \n",
            "+-----------------------------------------------------------------------------+\n",
            "| Processes:                                                                  |\n",
            "|  GPU   GI   CI        PID   Type   Process name                  GPU Memory |\n",
            "|        ID   ID                                                   Usage      |\n",
            "|=============================================================================|\n",
            "|  No running processes found                                                 |\n",
            "+-----------------------------------------------------------------------------+\n"
          ]
        }
      ],
      "source": [
        "### GPU configuration\n",
        "\n",
        "! nvidia-smi"
      ]
    },
    {
      "cell_type": "code",
      "execution_count": null,
      "metadata": {
        "colab": {
          "base_uri": "https://localhost:8080/"
        },
        "id": "P_K2jZFNcjco",
        "outputId": "13271643-0642-4c66-a660-164182d92679"
      },
      "outputs": [
        {
          "name": "stdout",
          "output_type": "stream",
          "text": [
            "Cloning into 'Federated-Learning-For-Medical-Images'...\n",
            "remote: Enumerating objects: 36, done.\u001b[K\n",
            "remote: Total 36 (delta 0), reused 0 (delta 0), pack-reused 36\u001b[K\n",
            "Receiving objects: 100% (36/36), 27.55 KiB | 1.84 MiB/s, done.\n",
            "Resolving deltas: 100% (7/7), done.\n"
          ]
        }
      ],
      "source": [
        "!git clone https://github.com/raja21068/Federated-Learning-For-Medical-Images.git\n"
      ]
    },
    {
      "cell_type": "code",
      "execution_count": null,
      "metadata": {
        "colab": {
          "base_uri": "https://localhost:8080/"
        },
        "id": "Ia3HG0pOcvLB",
        "outputId": "9373e738-4424-4242-d7d4-a6fdc94fae79"
      },
      "outputs": [
        {
          "name": "stdout",
          "output_type": "stream",
          "text": [
            "[Errno 2] No such file or directory: '/content/Federated-Learning-For-Medical-Images'\n",
            "/content\n"
          ]
        }
      ],
      "source": [
        "%cd /content/Federated-Learning-For-Medical-Images"
      ]
    },
    {
      "cell_type": "code",
      "execution_count": null,
      "metadata": {
        "colab": {
          "base_uri": "https://localhost:8080/"
        },
        "id": "RbcOGacqe9wu",
        "outputId": "ae84ad8c-2f7d-4627-e4de-b56500eb1e78"
      },
      "outputs": [
        {
          "output_type": "stream",
          "name": "stdout",
          "text": [
            "Collecting flwr\n",
            "  Downloading flwr-1.5.0-py3-none-any.whl (200 kB)\n",
            "\u001b[?25l     \u001b[90m━━━━━━━━━━━━━━━━━━━━━━━━━━━━━━━━━━━━━━━━\u001b[0m \u001b[32m0.0/200.4 kB\u001b[0m \u001b[31m?\u001b[0m eta \u001b[36m-:--:--\u001b[0m\r\u001b[2K     \u001b[91m━━━━━━━━━━━━━━━━━━━━━━━━━━━━━\u001b[0m\u001b[91m╸\u001b[0m\u001b[90m━━━━━━━━━\u001b[0m \u001b[32m153.6/200.4 kB\u001b[0m \u001b[31m4.5 MB/s\u001b[0m eta \u001b[36m0:00:01\u001b[0m\r\u001b[2K     \u001b[90m━━━━━━━━━━━━━━━━━━━━━━━━━━━━━━━━━━━━━━━\u001b[0m \u001b[32m200.4/200.4 kB\u001b[0m \u001b[31m4.5 MB/s\u001b[0m eta \u001b[36m0:00:00\u001b[0m\n",
            "\u001b[?25hRequirement already satisfied: cryptography<42.0.0,>=41.0.2 in /usr/local/lib/python3.10/dist-packages (from flwr) (41.0.3)\n",
            "Requirement already satisfied: grpcio!=1.52.0,<2.0.0,>=1.48.2 in /usr/local/lib/python3.10/dist-packages (from flwr) (1.57.0)\n",
            "Collecting iterators<0.0.3,>=0.0.2 (from flwr)\n",
            "  Downloading iterators-0.0.2-py3-none-any.whl (3.9 kB)\n",
            "Requirement already satisfied: numpy<2.0.0,>=1.21.0 in /usr/local/lib/python3.10/dist-packages (from flwr) (1.23.5)\n",
            "Requirement already satisfied: protobuf<4.0.0,>=3.19.0 in /usr/local/lib/python3.10/dist-packages (from flwr) (3.20.3)\n",
            "Collecting pycryptodome<4.0.0,>=3.18.0 (from flwr)\n",
            "  Downloading pycryptodome-3.18.0-cp35-abi3-manylinux_2_17_x86_64.manylinux2014_x86_64.whl (2.1 MB)\n",
            "\u001b[2K     \u001b[90m━━━━━━━━━━━━━━━━━━━━━━━━━━━━━━━━━━━━━━━━\u001b[0m \u001b[32m2.1/2.1 MB\u001b[0m \u001b[31m15.9 MB/s\u001b[0m eta \u001b[36m0:00:00\u001b[0m\n",
            "\u001b[?25hRequirement already satisfied: cffi>=1.12 in /usr/local/lib/python3.10/dist-packages (from cryptography<42.0.0,>=41.0.2->flwr) (1.15.1)\n",
            "Requirement already satisfied: pycparser in /usr/local/lib/python3.10/dist-packages (from cffi>=1.12->cryptography<42.0.0,>=41.0.2->flwr) (2.21)\n",
            "Installing collected packages: pycryptodome, iterators, flwr\n",
            "Successfully installed flwr-1.5.0 iterators-0.0.2 pycryptodome-3.18.0\n"
          ]
        }
      ],
      "source": [
        "pip install flwr"
      ]
    },
    {
      "cell_type": "code",
      "execution_count": null,
      "metadata": {
        "colab": {
          "base_uri": "https://localhost:8080/"
        },
        "id": "Yk2ZSkcVfDKX",
        "outputId": "78419a82-f799-4ee4-af40-f37fee7a6e54"
      },
      "outputs": [
        {
          "output_type": "stream",
          "name": "stdout",
          "text": [
            "Collecting flwr-nightly\n",
            "  Downloading flwr_nightly-1.6.0.dev20230907-py3-none-any.whl (202 kB)\n",
            "\u001b[2K     \u001b[90m━━━━━━━━━━━━━━━━━━━━━━━━━━━━━━━━━━━━━━━\u001b[0m \u001b[32m202.1/202.1 kB\u001b[0m \u001b[31m3.9 MB/s\u001b[0m eta \u001b[36m0:00:00\u001b[0m\n",
            "\u001b[?25hRequirement already satisfied: cryptography<42.0.0,>=41.0.2 in /usr/local/lib/python3.10/dist-packages (from flwr-nightly) (41.0.3)\n",
            "Requirement already satisfied: grpcio!=1.52.0,<2.0.0,>=1.48.2 in /usr/local/lib/python3.10/dist-packages (from flwr-nightly) (1.57.0)\n",
            "Requirement already satisfied: iterators<0.0.3,>=0.0.2 in /usr/local/lib/python3.10/dist-packages (from flwr-nightly) (0.0.2)\n",
            "Requirement already satisfied: numpy<2.0.0,>=1.21.0 in /usr/local/lib/python3.10/dist-packages (from flwr-nightly) (1.23.5)\n",
            "Requirement already satisfied: protobuf<4.0.0,>=3.19.0 in /usr/local/lib/python3.10/dist-packages (from flwr-nightly) (3.20.3)\n",
            "Requirement already satisfied: pycryptodome<4.0.0,>=3.18.0 in /usr/local/lib/python3.10/dist-packages (from flwr-nightly) (3.18.0)\n",
            "Requirement already satisfied: cffi>=1.12 in /usr/local/lib/python3.10/dist-packages (from cryptography<42.0.0,>=41.0.2->flwr-nightly) (1.15.1)\n",
            "Requirement already satisfied: pycparser in /usr/local/lib/python3.10/dist-packages (from cffi>=1.12->cryptography<42.0.0,>=41.0.2->flwr-nightly) (2.21)\n",
            "Installing collected packages: flwr-nightly\n",
            "Successfully installed flwr-nightly-1.6.0.dev20230907\n"
          ]
        }
      ],
      "source": [
        "pip install flwr-nightly"
      ]
    },
    {
      "cell_type": "code",
      "execution_count": null,
      "metadata": {
        "colab": {
          "base_uri": "https://localhost:8080/"
        },
        "id": "iyfEJlG3fEkF",
        "outputId": "856d437d-6aaa-48f4-90da-a99a92bc2ae7"
      },
      "outputs": [
        {
          "output_type": "stream",
          "name": "stdout",
          "text": [
            "Collecting git+https://github.com/adap/flower.git\n",
            "  Cloning https://github.com/adap/flower.git to /tmp/pip-req-build-jsvoys1v\n",
            "  Running command git clone --filter=blob:none --quiet https://github.com/adap/flower.git /tmp/pip-req-build-jsvoys1v\n",
            "  Resolved https://github.com/adap/flower.git to commit d1f06e9a468134879ca28b7678e3b145af83b0f6\n",
            "  Installing build dependencies ... \u001b[?25l\u001b[?25hdone\n",
            "  Getting requirements to build wheel ... \u001b[?25l\u001b[?25hdone\n",
            "  Preparing metadata (pyproject.toml) ... \u001b[?25l\u001b[?25hdone\n",
            "Requirement already satisfied: cryptography<42.0.0,>=41.0.2 in /usr/local/lib/python3.10/dist-packages (from flwr==1.6.0) (41.0.3)\n",
            "Requirement already satisfied: grpcio!=1.52.0,<2.0.0,>=1.48.2 in /usr/local/lib/python3.10/dist-packages (from flwr==1.6.0) (1.57.0)\n",
            "Requirement already satisfied: iterators<0.0.3,>=0.0.2 in /usr/local/lib/python3.10/dist-packages (from flwr==1.6.0) (0.0.2)\n",
            "Requirement already satisfied: numpy<2.0.0,>=1.21.0 in /usr/local/lib/python3.10/dist-packages (from flwr==1.6.0) (1.23.5)\n",
            "Requirement already satisfied: protobuf<4.0.0,>=3.19.0 in /usr/local/lib/python3.10/dist-packages (from flwr==1.6.0) (3.20.3)\n",
            "Requirement already satisfied: pycryptodome<4.0.0,>=3.18.0 in /usr/local/lib/python3.10/dist-packages (from flwr==1.6.0) (3.18.0)\n",
            "Requirement already satisfied: cffi>=1.12 in /usr/local/lib/python3.10/dist-packages (from cryptography<42.0.0,>=41.0.2->flwr==1.6.0) (1.15.1)\n",
            "Requirement already satisfied: pycparser in /usr/local/lib/python3.10/dist-packages (from cffi>=1.12->cryptography<42.0.0,>=41.0.2->flwr==1.6.0) (2.21)\n",
            "Building wheels for collected packages: flwr\n",
            "  Building wheel for flwr (pyproject.toml) ... \u001b[?25l\u001b[?25hdone\n",
            "  Created wheel for flwr: filename=flwr-1.6.0-py3-none-any.whl size=201702 sha256=02b39a7e89bcac7e9e526ce42dae4e41dcc01287f042185884e927b706709b6b\n",
            "  Stored in directory: /tmp/pip-ephem-wheel-cache-2m33k9h2/wheels/43/27/ff/f6609f5791eccb405ba3ed0e82f02c1d2a8d247b81065947f9\n",
            "Successfully built flwr\n",
            "Installing collected packages: flwr\n",
            "  Attempting uninstall: flwr\n",
            "    Found existing installation: flwr 1.5.0\n",
            "    Uninstalling flwr-1.5.0:\n",
            "      Successfully uninstalled flwr-1.5.0\n",
            "Successfully installed flwr-1.6.0\n"
          ]
        }
      ],
      "source": [
        "pip install git+https://github.com/adap/flower.git"
      ]
    },
    {
      "cell_type": "code",
      "execution_count": null,
      "metadata": {
        "colab": {
          "base_uri": "https://localhost:8080/"
        },
        "id": "6cPPnhGCfVrN",
        "outputId": "0c0de6b1-818f-4564-92fe-6ede1eab7805"
      },
      "outputs": [
        {
          "output_type": "stream",
          "name": "stdout",
          "text": [
            "\u001b[2K     \u001b[90m━━━━━━━━━━━━━━━━━━━━━━━━━━━━━━━━━━━━━━━━\u001b[0m \u001b[32m3.1/3.1 MB\u001b[0m \u001b[31m14.3 MB/s\u001b[0m eta \u001b[36m0:00:00\u001b[0m\n",
            "\u001b[2K     \u001b[90m━━━━━━━━━━━━━━━━━━━━━━━━━━━━━━━━━━━━━━━━\u001b[0m \u001b[32m56.9/56.9 MB\u001b[0m \u001b[31m14.7 MB/s\u001b[0m eta \u001b[36m0:00:00\u001b[0m\n",
            "\u001b[2K     \u001b[90m━━━━━━━━━━━━━━━━━━━━━━━━━━━━━━━━━━━━━━\u001b[0m \u001b[32m201.4/201.4 kB\u001b[0m \u001b[31m20.6 MB/s\u001b[0m eta \u001b[36m0:00:00\u001b[0m\n",
            "\u001b[2K     \u001b[90m━━━━━━━━━━━━━━━━━━━━━━━━━━━━━━━━━━━━━━━━\u001b[0m \u001b[32m3.0/3.0 MB\u001b[0m \u001b[31m61.7 MB/s\u001b[0m eta \u001b[36m0:00:00\u001b[0m\n",
            "\u001b[2K     \u001b[90m━━━━━━━━━━━━━━━━━━━━━━━━━━━━━━━━━━━━━━━━\u001b[0m \u001b[32m98.1/98.1 kB\u001b[0m \u001b[31m9.2 MB/s\u001b[0m eta \u001b[36m0:00:00\u001b[0m\n",
            "\u001b[?25h  Installing build dependencies ... \u001b[?25l\u001b[?25hdone\n",
            "  Getting requirements to build wheel ... \u001b[?25l\u001b[?25hdone\n",
            "  Preparing metadata (pyproject.toml) ... \u001b[?25l\u001b[?25hdone\n",
            "\u001b[2K     \u001b[90m━━━━━━━━━━━━━━━━━━━━━━━━━━━━━━━━━━━━━━\u001b[0m \u001b[32m128.2/128.2 kB\u001b[0m \u001b[31m16.8 MB/s\u001b[0m eta \u001b[36m0:00:00\u001b[0m\n",
            "\u001b[2K     \u001b[90m━━━━━━━━━━━━━━━━━━━━━━━━━━━━━━━━━━━━━━━━\u001b[0m \u001b[32m8.7/8.7 MB\u001b[0m \u001b[31m109.4 MB/s\u001b[0m eta \u001b[36m0:00:00\u001b[0m\n",
            "\u001b[2K     \u001b[90m━━━━━━━━━━━━━━━━━━━━━━━━━━━━━━━━━━━━━━━━\u001b[0m \u001b[32m58.4/58.4 kB\u001b[0m \u001b[31m7.9 MB/s\u001b[0m eta \u001b[36m0:00:00\u001b[0m\n",
            "\u001b[2K     \u001b[90m━━━━━━━━━━━━━━━━━━━━━━━━━━━━━━━━━━━━━━\u001b[0m \u001b[32m468.9/468.9 kB\u001b[0m \u001b[31m47.3 MB/s\u001b[0m eta \u001b[36m0:00:00\u001b[0m\n",
            "\u001b[?25h  Building wheel for gpustat (pyproject.toml) ... \u001b[?25l\u001b[?25hdone\n"
          ]
        }
      ],
      "source": [
        "!pip install -q flwr[simulation] torch torchvision matplotlib"
      ]
    },
    {
      "cell_type": "code",
      "execution_count": null,
      "metadata": {
        "colab": {
          "base_uri": "https://localhost:8080/"
        },
        "id": "wTFngSJpJmuV",
        "outputId": "da37ced8-5047-4d0c-e13e-c71f8ada6cb8"
      },
      "outputs": [
        {
          "output_type": "stream",
          "name": "stdout",
          "text": [
            "Mounted at /content/drive\n"
          ]
        }
      ],
      "source": [
        "from google.colab import drive\n",
        "drive.mount('/content/drive')"
      ]
    },
    {
      "cell_type": "code",
      "execution_count": null,
      "metadata": {
        "colab": {
          "base_uri": "https://localhost:8080/"
        },
        "id": "caRu9zO0ffRV",
        "outputId": "3f48bbfb-00e1-4f5d-9e2e-b3396b31b9db"
      },
      "outputs": [
        {
          "output_type": "stream",
          "name": "stdout",
          "text": [
            "Training on cpu using PyTorch 2.0.1+cu118 and Flower 1.6.0\n"
          ]
        }
      ],
      "source": [
        "from collections import OrderedDict\n",
        "from typing import List, Tuple\n",
        "\n",
        "import matplotlib.pyplot as plt\n",
        "import numpy as np\n",
        "import torch\n",
        "import torch.nn as nn\n",
        "import torch.nn.functional as F\n",
        "import torchvision\n",
        "import torchvision.transforms as transforms\n",
        "from torch.utils.data import DataLoader, random_split\n",
        "from torchvision.datasets import CIFAR10\n",
        "\n",
        "import flwr as fl\n",
        "from flwr.common import Metrics\n",
        "\n",
        "DEVICE = torch.device(\"cpu\")  # Try \"cuda\" to train on GPU\n",
        "print(\n",
        "    f\"Training on {DEVICE} using PyTorch {torch.__version__} and Flower {fl.__version__}\"\n",
        ")"
      ]
    },
    {
      "cell_type": "code",
      "execution_count": null,
      "metadata": {
        "id": "p0Jmnuo-fjWF"
      },
      "outputs": [],
      "source": [
        "CLASSES = (\n",
        "    \"EOSINOPHIL\",\n",
        "    \"LYMPHOCYTE\",\n",
        "    \"MONOCYTE\",\n",
        "    \"NEUTROPHIL\",\n",
        ")\n"
      ]
    },
    {
      "cell_type": "code",
      "execution_count": null,
      "metadata": {
        "id": "hjInc6irrxnj"
      },
      "outputs": [],
      "source": [
        "import os\n",
        "import torch\n",
        "from torch.utils.data import DataLoader, random_split\n",
        "from torchvision import transforms\n",
        "from torchvision.datasets import ImageFolder\n",
        "\n",
        "NUM_CLIENTS = 9\n",
        "BATCH_SIZE = 32\n",
        "DATA_ROOT = \"/content/drive/MyDrive/WBC_segmentation/seg/TRAIN\"\n",
        "\n",
        "def load_datasets():\n",
        "    # Define data transformation\n",
        "    transform = transforms.Compose(\n",
        "        [transforms.Resize((256, 256)),\n",
        "         transforms.ToTensor(),\n",
        "         transforms.Normalize((0.5, 0.5, 0.5), (0.5, 0.5, 0.5))]\n",
        "    )\n",
        "\n",
        "    # Load custom dataset\n",
        "    custom_dataset = ImageFolder(DATA_ROOT, transform=transform)\n",
        "\n",
        "    # Split custom dataset into train and test\n",
        "    train_size = int(0.8 * len(custom_dataset))  # 80% for training\n",
        "    trainset, _ = random_split(custom_dataset, [train_size, len(custom_dataset) - train_size])\n",
        "\n",
        "    # Split training set into 10 partitions to simulate the individual dataset\n",
        "    partition_size = len(trainset) // NUM_CLIENTS\n",
        "    lengths = [partition_size] * NUM_CLIENTS\n",
        "    datasets = random_split(trainset, lengths)\n",
        "\n",
        "    # Split each partition into train/val and create DataLoader\n",
        "    trainloaders = []\n",
        "    valloaders = []\n",
        "    for ds in datasets:\n",
        "        len_val = len(ds) // 10  # 10 % validation set\n",
        "        len_train = len(ds) - len_val\n",
        "        ds_train, ds_val = random_split(ds, [len_train, len_val])\n",
        "        trainloaders.append(DataLoader(ds_train, batch_size=BATCH_SIZE, shuffle=True))\n",
        "        valloaders.append(DataLoader(ds_val, batch_size=BATCH_SIZE))\n",
        "\n",
        "    # Prepare test dataset\n",
        "    testset = ImageFolder(DATA_ROOT, transform=transform)\n",
        "    testloader = DataLoader(testset, batch_size=BATCH_SIZE)\n",
        "\n",
        "    return trainloaders, valloaders, testloader\n",
        "\n",
        "trainloaders, valloaders, testloader = load_datasets()\n"
      ]
    },
    {
      "cell_type": "code",
      "execution_count": null,
      "metadata": {
        "colab": {
          "base_uri": "https://localhost:8080/",
          "height": 607
        },
        "id": "IylSYP6ViBnO",
        "outputId": "dc5eacd8-2d82-4da0-854f-2939ddfca871"
      },
      "outputs": [
        {
          "output_type": "display_data",
          "data": {
            "text/plain": [
              "<Figure size 1200x600 with 32 Axes>"
            ],
            "image/png": "[encoded data removed]"
          },
          "metadata": {}
        }
      ],
      "source": [
        "images, labels = next(iter(trainloaders[0]))\n",
        "\n",
        "# Reshape and convert images to a NumPy array\n",
        "# matplotlib requires images with the shape (height, width, 3)\n",
        "images = images.permute(0, 2, 3, 1).numpy()\n",
        "# Denormalize\n",
        "images = images / 2 + 0.5\n",
        "\n",
        "# Create a figure and a grid of subplots\n",
        "fig, axs = plt.subplots(4, 8, figsize=(12, 6))\n",
        "\n",
        "# Loop over the images and plot them\n",
        "for i, ax in enumerate(axs.flat):\n",
        "    ax.imshow(images[i])\n",
        "    ax.set_title(CLASSES[labels[i]])\n",
        "    ax.axis(\"off\")\n",
        "\n",
        "# Show the plot\n",
        "fig.tight_layout()\n",
        "plt.show()"
      ]
    },
    {
      "cell_type": "code",
      "execution_count": null,
      "metadata": {
        "id": "s1pU6H2Z1uug"
      },
      "outputs": [],
      "source": [
        "class Net(nn.Module):\n",
        "    def __init__(self):\n",
        "        super(Net, self).__init__()\n",
        "        self.conv1 = nn.Conv2d(3, 6, 5)  # Changed input channels from 1 to 3\n",
        "        self.pool = nn.MaxPool2d(2, 2)\n",
        "        self.conv2 = nn.Conv2d(6, 16, 5)\n",
        "        self.fc1 = nn.Linear(16 * 53 * 53, 120)  # Adjusted input size based on pooling and conv layers\n",
        "        self.fc2 = nn.Linear(120, 84)\n",
        "        self.fc3 = nn.Linear(84, 10)\n",
        "\n",
        "    def forward(self, x):\n",
        "        x = self.pool(F.relu(self.conv1(x)))\n",
        "        x = self.pool(F.relu(self.conv2(x)))\n",
        "        x = x.view(x.size(0), -1)\n",
        "        x = F.relu(self.fc1(x))\n",
        "        x = F.relu(self.fc2(x))\n",
        "        x = self.fc3(x)\n",
        "        return x\n"
      ]
    },
    {
      "cell_type": "code",
      "execution_count": null,
      "metadata": {
        "id": "MU9GKzUNTp8i"
      },
      "outputs": [],
      "source": [
        "import torch.nn as nn\n",
        "import torch.nn.functional as F\n",
        "\n",
        "class Net(nn.Module):\n",
        "    def __init__(self):\n",
        "        super(Net, self).__init__()\n",
        "\n",
        "        # Define a sequential module\n",
        "        self.features = nn.Sequential(\n",
        "            nn.Conv2d(3, 32, 3),\n",
        "            nn.ReLU(),\n",
        "            nn.MaxPool2d(2, 2),\n",
        "            nn.Conv2d(32, 64, 3),\n",
        "            nn.ReLU(),\n",
        "            nn.MaxPool2d(2, 2)\n",
        "        )\n",
        "\n",
        "        # Define additional layers\n",
        "        self.fc1 = nn.Linear(64 * 62 * 62, 256)\n",
        "        self.fc2 = nn.Linear(256, 128)\n",
        "        self.fc3 = nn.Linear(128, 10)\n",
        "\n",
        "        # Define dropout layers\n",
        "        self.dropout1 = nn.Dropout(0.25)\n",
        "        self.dropout2 = nn.Dropout(0.5)\n",
        "\n",
        "    def forward(self, x):\n",
        "        x = self.features(x)\n",
        "        x = x.view(x.size(0), -1)\n",
        "        x = F.relu(self.fc1(x))\n",
        "        x = self.dropout1(x)\n",
        "        x = F.relu(self.fc2(x))\n",
        "        x = self.dropout2(x)\n",
        "        x = self.fc3(x)\n",
        "        return x\n"
      ]
    },
    {
      "cell_type": "code",
      "execution_count": null,
      "metadata": {
        "id": "tPM6Qr8ZtFWf"
      },
      "outputs": [],
      "source": [
        "def train(net, trainloader, epochs: int, verbose=False):\n",
        "    \"\"\"Train the network on the training set.\"\"\"\n",
        "    criterion = torch.nn.CrossEntropyLoss()\n",
        "    optimizer = torch.optim.Adam(net.parameters())\n",
        "    net.train()\n",
        "    for epoch in range(epochs):\n",
        "        correct, total, epoch_loss = 0, 0, 0.0\n",
        "        for images, labels in trainloader:\n",
        "            images, labels = images.to(DEVICE), labels.to(DEVICE)\n",
        "            optimizer.zero_grad()\n",
        "            outputs = net(images)\n",
        "            loss = criterion(outputs, labels)\n",
        "            loss.backward()\n",
        "            optimizer.step()\n",
        "            # Metrics\n",
        "            epoch_loss += loss\n",
        "            total += labels.size(0)\n",
        "            correct += (torch.max(outputs.data, 1)[1] == labels).sum().item()\n",
        "        epoch_loss /= len(trainloader.dataset)\n",
        "        epoch_acc = correct / total\n",
        "        if verbose:\n",
        "            print(f\"Epoch {epoch+1}: train loss {epoch_loss}, accuracy {epoch_acc}\")\n",
        "\n",
        "\n",
        "def test(net, testloader):\n",
        "    \"\"\"Evaluate the network on the entire test set.\"\"\"\n",
        "    criterion = torch.nn.CrossEntropyLoss()\n",
        "    correct, total, loss = 0, 0, 0.0\n",
        "    net.eval()\n",
        "    with torch.no_grad():\n",
        "        for images, labels in testloader:\n",
        "            images, labels = images.to(DEVICE), labels.to(DEVICE)\n",
        "            outputs = net(images)\n",
        "            loss += criterion(outputs, labels).item()\n",
        "            _, predicted = torch.max(outputs.data, 1)\n",
        "            total += labels.size(0)\n",
        "            correct += (predicted == labels).sum().item()\n",
        "    loss /= len(testloader.dataset)\n",
        "    accuracy = correct / total\n",
        "    return loss, accuracy\n"
      ]
    },
    {
      "cell_type": "code",
      "execution_count": null,
      "metadata": {
        "colab": {
          "base_uri": "https://localhost:8080/"
        },
        "id": "UZNp3rjt2juS",
        "outputId": "57beb8a6-f3a4-4ba9-fdb2-299a4e7ee3a0"
      },
      "outputs": [
        {
          "output_type": "stream",
          "name": "stdout",
          "text": [
            "Epoch 1: validation loss 0.05030967430634932, accuracy 0.23863636363636365\n",
            "Epoch 2: validation loss 0.04508765448223461, accuracy 0.36363636363636365\n",
            "Epoch 3: validation loss 0.0449187620119615, accuracy 0.3522727272727273\n",
            "Epoch 4: validation loss 0.04294291003183885, accuracy 0.375\n",
            "Epoch 5: validation loss 0.0453511354598132, accuracy 0.4318181818181818\n",
            "Epoch 6: validation loss 0.042221710085868835, accuracy 0.4659090909090909\n",
            "Epoch 7: validation loss 0.04239957711913369, accuracy 0.5227272727272727\n",
            "Epoch 8: validation loss 0.04405224052342502, accuracy 0.45454545454545453\n",
            "Epoch 9: validation loss 0.052931094711477104, accuracy 0.45454545454545453\n",
            "Epoch 10: validation loss 0.06339713524688374, accuracy 0.4431818181818182\n",
            "Epoch 11: validation loss 0.0801120861010118, accuracy 0.45454545454545453\n",
            "Epoch 12: validation loss 0.09145069122314453, accuracy 0.4318181818181818\n",
            "Epoch 13: validation loss 0.11937415057962592, accuracy 0.4659090909090909\n",
            "Epoch 14: validation loss 0.13082786310802808, accuracy 0.45454545454545453\n",
            "Epoch 15: validation loss 0.15943986177444458, accuracy 0.42045454545454547\n",
            "Epoch 16: validation loss 0.1531866490840912, accuracy 0.4431818181818182\n",
            "Epoch 17: validation loss 0.19712347334081476, accuracy 0.42045454545454547\n",
            "Epoch 18: validation loss 0.19219959865916858, accuracy 0.45454545454545453\n",
            "Epoch 19: validation loss 0.22838846119967374, accuracy 0.38636363636363635\n",
            "Epoch 20: validation loss 0.25022358244115656, accuracy 0.4659090909090909\n",
            "Epoch 21: validation loss 0.2111723856492476, accuracy 0.42045454545454547\n",
            "Epoch 22: validation loss 0.3651324293830178, accuracy 0.4431818181818182\n",
            "Epoch 23: validation loss 0.2656346180222251, accuracy 0.375\n",
            "Epoch 24: validation loss 0.35477457263252954, accuracy 0.4090909090909091\n",
            "Epoch 25: validation loss 0.3679640293121338, accuracy 0.4431818181818182\n",
            "Epoch 26: validation loss 0.42776700583371247, accuracy 0.4431818181818182\n",
            "Epoch 27: validation loss 0.41295135021209717, accuracy 0.45454545454545453\n",
            "Epoch 28: validation loss 0.42056413130326703, accuracy 0.4318181818181818\n",
            "Epoch 29: validation loss 0.4104544899680398, accuracy 0.4431818181818182\n",
            "Epoch 30: validation loss 0.43771574713967065, accuracy 0.45454545454545453\n",
            "Final test set performance:\n",
            "\tloss 0.3664084523392452\n",
            "\taccuracy 0.46238826955910417\n"
          ]
        }
      ],
      "source": [
        "trainloader = trainloaders[0]\n",
        "valloader = valloaders[0]\n",
        "net = Net().to(DEVICE)\n",
        "\n",
        "for epoch in range(30):\n",
        "    train(net, trainloader, 1)\n",
        "    loss, accuracy = test(net, valloader)\n",
        "    print(f\"Epoch {epoch+1}: validation loss {loss}, accuracy {accuracy}\")\n",
        "\n",
        "loss, accuracy = test(net, testloader)\n",
        "print(f\"Final test set performance:\\n\\tloss {loss}\\n\\taccuracy {accuracy}\")"
      ]
    },
    {
      "cell_type": "code",
      "execution_count": null,
      "metadata": {
        "colab": {
          "base_uri": "https://localhost:8080/",
          "height": 245
        },
        "id": "noRkEtpUJ6zL",
        "outputId": "8ea66ae7-6e7e-42d7-d6ba-8dffc13fff3e"
      },
      "outputs": [
        {
          "ename": "AttributeError",
          "evalue": "ignored",
          "output_type": "error",
          "traceback": [
            "\u001b[0;31m---------------------------------------------------------------------------\u001b[0m",
            "\u001b[0;31mAttributeError\u001b[0m                            Traceback (most recent call last)",
            "\u001b[0;32m<ipython-input-22-71bbe2d31ee4>\u001b[0m in \u001b[0;36m<cell line: 8>\u001b[0;34m()\u001b[0m\n\u001b[1;32m      6\u001b[0m \u001b[0;34m\u001b[0m\u001b[0m\n\u001b[1;32m      7\u001b[0m \u001b[0;31m# Define an optimizer and specify the parameters to optimize\u001b[0m\u001b[0;34m\u001b[0m\u001b[0;34m\u001b[0m\u001b[0m\n\u001b[0;32m----> 8\u001b[0;31m \u001b[0moptimizer\u001b[0m \u001b[0;34m=\u001b[0m \u001b[0moptim\u001b[0m\u001b[0;34m.\u001b[0m\u001b[0mSGD\u001b[0m\u001b[0;34m(\u001b[0m\u001b[0mnet\u001b[0m\u001b[0;34m.\u001b[0m\u001b[0mparameters\u001b[0m\u001b[0;34m(\u001b[0m\u001b[0;34m)\u001b[0m\u001b[0;34m,\u001b[0m \u001b[0mlr\u001b[0m\u001b[0;34m=\u001b[0m\u001b[0;36m0.01\u001b[0m\u001b[0;34m)\u001b[0m\u001b[0;34m\u001b[0m\u001b[0;34m\u001b[0m\u001b[0m\n\u001b[0m\u001b[1;32m      9\u001b[0m \u001b[0;34m\u001b[0m\u001b[0m\n\u001b[1;32m     10\u001b[0m \u001b[0;31m# Example: Training loop\u001b[0m\u001b[0;34m\u001b[0m\u001b[0;34m\u001b[0m\u001b[0m\n",
            "\u001b[0;31mAttributeError\u001b[0m: 'Sequential' object has no attribute 'parameters'"
          ]
        }
      ],
      "source": [
        "import torch\n",
        "import torch.optim as optim\n",
        "\n",
        "# Create an instance of your network\n",
        "net = model\n",
        "\n",
        "# Define an optimizer and specify the parameters to optimize\n",
        "optimizer = optim.SGD(net.parameters(), lr=0.01)\n",
        "\n",
        "# Example: Training loop\n",
        "for epoch in range(num_epochs):\n",
        "    optimizer.zero_grad()\n",
        "    outputs = net(inputs)\n",
        "    loss = criterion(outputs, labels)\n",
        "    loss.backward()\n",
        "    optimizer.step()\n"
      ]
    },
    {
      "cell_type": "code",
      "execution_count": null,
      "metadata": {
        "id": "Cs4VtmMibF9h"
      },
      "outputs": [],
      "source": [
        "def get_parameters(net) -> List[np.ndarray]:\n",
        "    return [val.cpu().numpy() for _, val in net.state_dict().items()]\n",
        "\n",
        "\n",
        "def set_parameters(net, parameters: List[np.ndarray]):\n",
        "    params_dict = zip(net.state_dict().keys(), parameters)\n",
        "    state_dict = OrderedDict({k: torch.Tensor(v) for k, v in params_dict})\n",
        "    net.load_state_dict(state_dict, strict=True)"
      ]
    },
    {
      "cell_type": "code",
      "execution_count": null,
      "metadata": {
        "id": "subf_1Liilc3"
      },
      "outputs": [],
      "source": [
        "class FlowerClient(fl.client.NumPyClient):\n",
        "    def __init__(self, net, trainloader, valloader):\n",
        "        self.net = net\n",
        "        self.trainloader = trainloader\n",
        "        self.valloader = valloader\n",
        "\n",
        "    def get_parameters(self, config):\n",
        "        return get_parameters(self.net)\n",
        "\n",
        "    def fit(self, parameters, config):\n",
        "        set_parameters(self.net, parameters)\n",
        "        train(self.net, self.trainloader, epochs=1)\n",
        "        return get_parameters(self.net), len(self.trainloader), {}\n",
        "\n",
        "    def evaluate(self, parameters, config):\n",
        "        set_parameters(self.net, parameters)\n",
        "        loss, accuracy = test(self.net, self.valloader)\n",
        "        return float(loss), len(self.valloader), {\"accuracy\": float(accuracy)}"
      ]
    },
    {
      "cell_type": "code",
      "execution_count": null,
      "metadata": {
        "id": "zKwFpEFVimvQ"
      },
      "outputs": [],
      "source": [
        "def client_fn(cid: str) -> FlowerClient:\n",
        "    \"\"\"Create a Flower client representing a single organization.\"\"\"\n",
        "\n",
        "    # Load model\n",
        "    net = model.to(DEVICE)\n",
        "\n",
        "    # Load data (CIFAR-10)\n",
        "    # Note: each client gets a different trainloader/valloader, so each client\n",
        "    # will train and evaluate on their own unique data\n",
        "    trainloader = trainloaders[int(cid)]\n",
        "    valloader = valloaders[int(cid)]\n",
        "\n",
        "    # Create a  single Flower client representing a single organization\n",
        "    return FlowerClient(net, trainloader, valloader)\n"
      ]
    },
    {
      "cell_type": "code",
      "execution_count": null,
      "metadata": {
        "colab": {
          "base_uri": "https://localhost:8080/"
        },
        "id": "3ve_dajBio31",
        "outputId": "4a9f2c44-ad9e-4881-8205-7333227e6473"
      },
      "outputs": [
        {
          "name": "stderr",
          "output_type": "stream",
          "text": [
            "INFO flwr 2023-09-07 05:52:31,078 | app.py:176 | Starting Flower simulation, config: ServerConfig(num_rounds=5, round_timeout=None)\n",
            "INFO:flwr:Starting Flower simulation, config: ServerConfig(num_rounds=5, round_timeout=None)\n",
            "2023-09-07 05:52:38,001\tINFO worker.py:1621 -- Started a local Ray instance.\n",
            "INFO flwr 2023-09-07 05:52:40,119 | app.py:211 | Flower VCE: Ray initialized with resources: {'object_store_memory': 3889105305.0, 'memory': 7778210612.0, 'CPU': 2.0, 'node:__internal_head__': 1.0, 'node:172.28.0.12': 1.0}\n",
            "INFO:flwr:Flower VCE: Ray initialized with resources: {'object_store_memory': 3889105305.0, 'memory': 7778210612.0, 'CPU': 2.0, 'node:__internal_head__': 1.0, 'node:172.28.0.12': 1.0}\n",
            "INFO flwr 2023-09-07 05:52:40,131 | app.py:219 | No `client_resources` specified. Using minimal resources for clients.\n",
            "INFO:flwr:No `client_resources` specified. Using minimal resources for clients.\n",
            "INFO flwr 2023-09-07 05:52:40,138 | app.py:225 | Flower VCE: Resources for each Virtual Client: {'num_cpus': 1, 'num_gpus': 0.0}\n",
            "INFO:flwr:Flower VCE: Resources for each Virtual Client: {'num_cpus': 1, 'num_gpus': 0.0}\n",
            "INFO flwr 2023-09-07 05:52:40,190 | app.py:271 | Flower VCE: Creating VirtualClientEngineActorPool with 2 actors\n",
            "INFO:flwr:Flower VCE: Creating VirtualClientEngineActorPool with 2 actors\n",
            "INFO flwr 2023-09-07 05:52:40,199 | server.py:89 | Initializing global parameters\n",
            "INFO:flwr:Initializing global parameters\n",
            "INFO flwr 2023-09-07 05:52:40,206 | server.py:276 | Requesting initial parameters from one random client\n",
            "INFO:flwr:Requesting initial parameters from one random client\n",
            "\u001b[2m\u001b[36m(pid=12085)\u001b[0m 2023-09-07 05:52:47.214236: W tensorflow/compiler/tf2tensorrt/utils/py_utils.cc:38] TF-TRT Warning: Could not find TensorRT\n",
            "\u001b[2m\u001b[36m(DefaultActor pid=12085)\u001b[0m WARNING:absl:Skipping variable loading for optimizer 'Adam', because it has 25 variables whereas the saved optimizer has 1 variables. \n",
            "\u001b[2m\u001b[36m(pid=12084)\u001b[0m 2023-09-07 05:52:47.275064: W tensorflow/compiler/tf2tensorrt/utils/py_utils.cc:38] TF-TRT Warning: Could not find TensorRT\n",
            "ERROR flwr 2023-09-07 05:52:55,049 | ray_client_proxy.py:147 | Traceback (most recent call last):\n",
            "  File \"/usr/local/lib/python3.10/dist-packages/flwr/simulation/ray_transport/ray_client_proxy.py\", line 140, in _submit_job\n",
            "    res = self.actor_pool.get_client_result(self.cid, timeout)\n",
            "  File \"/usr/local/lib/python3.10/dist-packages/flwr/simulation/ray_transport/ray_actor.py\", line 402, in get_client_result\n",
            "    return self._fetch_future_result(cid)\n",
            "  File \"/usr/local/lib/python3.10/dist-packages/flwr/simulation/ray_transport/ray_actor.py\", line 288, in _fetch_future_result\n",
            "    res_cid, res = ray.get(future)  # type: (str, ClientRes)\n",
            "  File \"/usr/local/lib/python3.10/dist-packages/ray/_private/auto_init_hook.py\", line 24, in auto_init_wrapper\n",
            "    return fn(*args, **kwargs)\n",
            "  File \"/usr/local/lib/python3.10/dist-packages/ray/_private/client_mode_hook.py\", line 103, in wrapper\n",
            "    return func(*args, **kwargs)\n",
            "  File \"/usr/local/lib/python3.10/dist-packages/ray/_private/worker.py\", line 2524, in get\n",
            "    raise value.as_instanceof_cause()\n",
            "ray.exceptions.RayTaskError(ClientException): \u001b[36mray::DefaultActor.run()\u001b[39m (pid=12085, ip=172.28.0.12, actor_id=a466fffac31cebfefaffeb4b01000000, repr=<flwr.simulation.ray_transport.ray_actor.DefaultActor object at 0x7d74f61f8f70>)\n",
            "  File \"/usr/local/lib/python3.10/dist-packages/flwr/simulation/ray_transport/ray_client_proxy.py\", line 178, in get_parameters\n",
            "    client: Client = _create_client(self.client_fn, self.cid)\n",
            "  File \"/usr/local/lib/python3.10/dist-packages/flwr/simulation/ray_transport/ray_client_proxy.py\", line 284, in _create_client\n",
            "    client_like: ClientLike = client_fn(cid)\n",
            "  File \"<ipython-input-25-018fa473c488>\", line 5, in client_fn\n",
            "AttributeError: 'Sequential' object has no attribute 'to'\n",
            "\n",
            "The above exception was the direct cause of the following exception:\n",
            "\n",
            "\u001b[36mray::DefaultActor.run()\u001b[39m (pid=12085, ip=172.28.0.12, actor_id=a466fffac31cebfefaffeb4b01000000, repr=<flwr.simulation.ray_transport.ray_actor.DefaultActor object at 0x7d74f61f8f70>)\n",
            "  File \"/usr/local/lib/python3.10/dist-packages/flwr/simulation/ray_transport/ray_actor.py\", line 72, in run\n",
            "    raise ClientException(str(message)) from ex\n",
            "flwr.simulation.ray_transport.ray_actor.ClientException: \n",
            ">>>>>>>A ClientException occurred.('\\n\\tSomething went wrong when running your client workload.\\n\\tClient 4 crashed when the DefaultActor was running its workload.\\n\\tException triggered on the client side: Traceback (most recent call last):\\n  File \"/usr/local/lib/python3.10/dist-packages/flwr/simulation/ray_transport/ray_actor.py\", line 60, in run\\n    job_results = job_fn()\\n  File \"/usr/local/lib/python3.10/dist-packages/flwr/simulation/ray_transport/ray_client_proxy.py\", line 178, in get_parameters\\n    client: Client = _create_client(self.client_fn, self.cid)\\n  File \"/usr/local/lib/python3.10/dist-packages/flwr/simulation/ray_transport/ray_client_proxy.py\", line 284, in _create_client\\n    client_like: ClientLike = client_fn(cid)\\n  File \"<ipython-input-25-018fa473c488>\", line 5, in client_fn\\nAttributeError: \\'Sequential\\' object has no attribute \\'to\\'\\n',)\n",
            "\n",
            "ERROR:flwr:Traceback (most recent call last):\n",
            "  File \"/usr/local/lib/python3.10/dist-packages/flwr/simulation/ray_transport/ray_client_proxy.py\", line 140, in _submit_job\n",
            "    res = self.actor_pool.get_client_result(self.cid, timeout)\n",
            "  File \"/usr/local/lib/python3.10/dist-packages/flwr/simulation/ray_transport/ray_actor.py\", line 402, in get_client_result\n",
            "    return self._fetch_future_result(cid)\n",
            "  File \"/usr/local/lib/python3.10/dist-packages/flwr/simulation/ray_transport/ray_actor.py\", line 288, in _fetch_future_result\n",
            "    res_cid, res = ray.get(future)  # type: (str, ClientRes)\n",
            "  File \"/usr/local/lib/python3.10/dist-packages/ray/_private/auto_init_hook.py\", line 24, in auto_init_wrapper\n",
            "    return fn(*args, **kwargs)\n",
            "  File \"/usr/local/lib/python3.10/dist-packages/ray/_private/client_mode_hook.py\", line 103, in wrapper\n",
            "    return func(*args, **kwargs)\n",
            "  File \"/usr/local/lib/python3.10/dist-packages/ray/_private/worker.py\", line 2524, in get\n",
            "    raise value.as_instanceof_cause()\n",
            "ray.exceptions.RayTaskError(ClientException): \u001b[36mray::DefaultActor.run()\u001b[39m (pid=12085, ip=172.28.0.12, actor_id=a466fffac31cebfefaffeb4b01000000, repr=<flwr.simulation.ray_transport.ray_actor.DefaultActor object at 0x7d74f61f8f70>)\n",
            "  File \"/usr/local/lib/python3.10/dist-packages/flwr/simulation/ray_transport/ray_client_proxy.py\", line 178, in get_parameters\n",
            "    client: Client = _create_client(self.client_fn, self.cid)\n",
            "  File \"/usr/local/lib/python3.10/dist-packages/flwr/simulation/ray_transport/ray_client_proxy.py\", line 284, in _create_client\n",
            "    client_like: ClientLike = client_fn(cid)\n",
            "  File \"<ipython-input-25-018fa473c488>\", line 5, in client_fn\n",
            "AttributeError: 'Sequential' object has no attribute 'to'\n",
            "\n",
            "The above exception was the direct cause of the following exception:\n",
            "\n",
            "\u001b[36mray::DefaultActor.run()\u001b[39m (pid=12085, ip=172.28.0.12, actor_id=a466fffac31cebfefaffeb4b01000000, repr=<flwr.simulation.ray_transport.ray_actor.DefaultActor object at 0x7d74f61f8f70>)\n",
            "  File \"/usr/local/lib/python3.10/dist-packages/flwr/simulation/ray_transport/ray_actor.py\", line 72, in run\n",
            "    raise ClientException(str(message)) from ex\n",
            "flwr.simulation.ray_transport.ray_actor.ClientException: \n",
            ">>>>>>>A ClientException occurred.('\\n\\tSomething went wrong when running your client workload.\\n\\tClient 4 crashed when the DefaultActor was running its workload.\\n\\tException triggered on the client side: Traceback (most recent call last):\\n  File \"/usr/local/lib/python3.10/dist-packages/flwr/simulation/ray_transport/ray_actor.py\", line 60, in run\\n    job_results = job_fn()\\n  File \"/usr/local/lib/python3.10/dist-packages/flwr/simulation/ray_transport/ray_client_proxy.py\", line 178, in get_parameters\\n    client: Client = _create_client(self.client_fn, self.cid)\\n  File \"/usr/local/lib/python3.10/dist-packages/flwr/simulation/ray_transport/ray_client_proxy.py\", line 284, in _create_client\\n    client_like: ClientLike = client_fn(cid)\\n  File \"<ipython-input-25-018fa473c488>\", line 5, in client_fn\\nAttributeError: \\'Sequential\\' object has no attribute \\'to\\'\\n',)\n",
            "\n",
            "ERROR flwr 2023-09-07 05:52:55,055 | ray_client_proxy.py:148 | \u001b[36mray::DefaultActor.run()\u001b[39m (pid=12085, ip=172.28.0.12, actor_id=a466fffac31cebfefaffeb4b01000000, repr=<flwr.simulation.ray_transport.ray_actor.DefaultActor object at 0x7d74f61f8f70>)\n",
            "  File \"/usr/local/lib/python3.10/dist-packages/flwr/simulation/ray_transport/ray_client_proxy.py\", line 178, in get_parameters\n",
            "    client: Client = _create_client(self.client_fn, self.cid)\n",
            "  File \"/usr/local/lib/python3.10/dist-packages/flwr/simulation/ray_transport/ray_client_proxy.py\", line 284, in _create_client\n",
            "    client_like: ClientLike = client_fn(cid)\n",
            "  File \"<ipython-input-25-018fa473c488>\", line 5, in client_fn\n",
            "AttributeError: 'Sequential' object has no attribute 'to'\n",
            "\n",
            "The above exception was the direct cause of the following exception:\n",
            "\n",
            "\u001b[36mray::DefaultActor.run()\u001b[39m (pid=12085, ip=172.28.0.12, actor_id=a466fffac31cebfefaffeb4b01000000, repr=<flwr.simulation.ray_transport.ray_actor.DefaultActor object at 0x7d74f61f8f70>)\n",
            "  File \"/usr/local/lib/python3.10/dist-packages/flwr/simulation/ray_transport/ray_actor.py\", line 72, in run\n",
            "    raise ClientException(str(message)) from ex\n",
            "flwr.simulation.ray_transport.ray_actor.ClientException: \n",
            ">>>>>>>A ClientException occurred.('\\n\\tSomething went wrong when running your client workload.\\n\\tClient 4 crashed when the DefaultActor was running its workload.\\n\\tException triggered on the client side: Traceback (most recent call last):\\n  File \"/usr/local/lib/python3.10/dist-packages/flwr/simulation/ray_transport/ray_actor.py\", line 60, in run\\n    job_results = job_fn()\\n  File \"/usr/local/lib/python3.10/dist-packages/flwr/simulation/ray_transport/ray_client_proxy.py\", line 178, in get_parameters\\n    client: Client = _create_client(self.client_fn, self.cid)\\n  File \"/usr/local/lib/python3.10/dist-packages/flwr/simulation/ray_transport/ray_client_proxy.py\", line 284, in _create_client\\n    client_like: ClientLike = client_fn(cid)\\n  File \"<ipython-input-25-018fa473c488>\", line 5, in client_fn\\nAttributeError: \\'Sequential\\' object has no attribute \\'to\\'\\n',)\n",
            "ERROR:flwr:\u001b[36mray::DefaultActor.run()\u001b[39m (pid=12085, ip=172.28.0.12, actor_id=a466fffac31cebfefaffeb4b01000000, repr=<flwr.simulation.ray_transport.ray_actor.DefaultActor object at 0x7d74f61f8f70>)\n",
            "  File \"/usr/local/lib/python3.10/dist-packages/flwr/simulation/ray_transport/ray_client_proxy.py\", line 178, in get_parameters\n",
            "    client: Client = _create_client(self.client_fn, self.cid)\n",
            "  File \"/usr/local/lib/python3.10/dist-packages/flwr/simulation/ray_transport/ray_client_proxy.py\", line 284, in _create_client\n",
            "    client_like: ClientLike = client_fn(cid)\n",
            "  File \"<ipython-input-25-018fa473c488>\", line 5, in client_fn\n",
            "AttributeError: 'Sequential' object has no attribute 'to'\n",
            "\n",
            "The above exception was the direct cause of the following exception:\n",
            "\n",
            "\u001b[36mray::DefaultActor.run()\u001b[39m (pid=12085, ip=172.28.0.12, actor_id=a466fffac31cebfefaffeb4b01000000, repr=<flwr.simulation.ray_transport.ray_actor.DefaultActor object at 0x7d74f61f8f70>)\n",
            "  File \"/usr/local/lib/python3.10/dist-packages/flwr/simulation/ray_transport/ray_actor.py\", line 72, in run\n",
            "    raise ClientException(str(message)) from ex\n",
            "flwr.simulation.ray_transport.ray_actor.ClientException: \n",
            ">>>>>>>A ClientException occurred.('\\n\\tSomething went wrong when running your client workload.\\n\\tClient 4 crashed when the DefaultActor was running its workload.\\n\\tException triggered on the client side: Traceback (most recent call last):\\n  File \"/usr/local/lib/python3.10/dist-packages/flwr/simulation/ray_transport/ray_actor.py\", line 60, in run\\n    job_results = job_fn()\\n  File \"/usr/local/lib/python3.10/dist-packages/flwr/simulation/ray_transport/ray_client_proxy.py\", line 178, in get_parameters\\n    client: Client = _create_client(self.client_fn, self.cid)\\n  File \"/usr/local/lib/python3.10/dist-packages/flwr/simulation/ray_transport/ray_client_proxy.py\", line 284, in _create_client\\n    client_like: ClientLike = client_fn(cid)\\n  File \"<ipython-input-25-018fa473c488>\", line 5, in client_fn\\nAttributeError: \\'Sequential\\' object has no attribute \\'to\\'\\n',)\n",
            "ERROR flwr 2023-09-07 05:52:55,061 | app.py:295 | \u001b[36mray::DefaultActor.run()\u001b[39m (pid=12085, ip=172.28.0.12, actor_id=a466fffac31cebfefaffeb4b01000000, repr=<flwr.simulation.ray_transport.ray_actor.DefaultActor object at 0x7d74f61f8f70>)\n",
            "  File \"/usr/local/lib/python3.10/dist-packages/flwr/simulation/ray_transport/ray_client_proxy.py\", line 178, in get_parameters\n",
            "    client: Client = _create_client(self.client_fn, self.cid)\n",
            "  File \"/usr/local/lib/python3.10/dist-packages/flwr/simulation/ray_transport/ray_client_proxy.py\", line 284, in _create_client\n",
            "    client_like: ClientLike = client_fn(cid)\n",
            "  File \"<ipython-input-25-018fa473c488>\", line 5, in client_fn\n",
            "AttributeError: 'Sequential' object has no attribute 'to'\n",
            "\n",
            "The above exception was the direct cause of the following exception:\n",
            "\n",
            "\u001b[36mray::DefaultActor.run()\u001b[39m (pid=12085, ip=172.28.0.12, actor_id=a466fffac31cebfefaffeb4b01000000, repr=<flwr.simulation.ray_transport.ray_actor.DefaultActor object at 0x7d74f61f8f70>)\n",
            "  File \"/usr/local/lib/python3.10/dist-packages/flwr/simulation/ray_transport/ray_actor.py\", line 72, in run\n",
            "    raise ClientException(str(message)) from ex\n",
            "flwr.simulation.ray_transport.ray_actor.ClientException: \n",
            ">>>>>>>A ClientException occurred.('\\n\\tSomething went wrong when running your client workload.\\n\\tClient 4 crashed when the DefaultActor was running its workload.\\n\\tException triggered on the client side: Traceback (most recent call last):\\n  File \"/usr/local/lib/python3.10/dist-packages/flwr/simulation/ray_transport/ray_actor.py\", line 60, in run\\n    job_results = job_fn()\\n  File \"/usr/local/lib/python3.10/dist-packages/flwr/simulation/ray_transport/ray_client_proxy.py\", line 178, in get_parameters\\n    client: Client = _create_client(self.client_fn, self.cid)\\n  File \"/usr/local/lib/python3.10/dist-packages/flwr/simulation/ray_transport/ray_client_proxy.py\", line 284, in _create_client\\n    client_like: ClientLike = client_fn(cid)\\n  File \"<ipython-input-25-018fa473c488>\", line 5, in client_fn\\nAttributeError: \\'Sequential\\' object has no attribute \\'to\\'\\n',)\n",
            "ERROR:flwr:\u001b[36mray::DefaultActor.run()\u001b[39m (pid=12085, ip=172.28.0.12, actor_id=a466fffac31cebfefaffeb4b01000000, repr=<flwr.simulation.ray_transport.ray_actor.DefaultActor object at 0x7d74f61f8f70>)\n",
            "  File \"/usr/local/lib/python3.10/dist-packages/flwr/simulation/ray_transport/ray_client_proxy.py\", line 178, in get_parameters\n",
            "    client: Client = _create_client(self.client_fn, self.cid)\n",
            "  File \"/usr/local/lib/python3.10/dist-packages/flwr/simulation/ray_transport/ray_client_proxy.py\", line 284, in _create_client\n",
            "    client_like: ClientLike = client_fn(cid)\n",
            "  File \"<ipython-input-25-018fa473c488>\", line 5, in client_fn\n",
            "AttributeError: 'Sequential' object has no attribute 'to'\n",
            "\n",
            "The above exception was the direct cause of the following exception:\n",
            "\n",
            "\u001b[36mray::DefaultActor.run()\u001b[39m (pid=12085, ip=172.28.0.12, actor_id=a466fffac31cebfefaffeb4b01000000, repr=<flwr.simulation.ray_transport.ray_actor.DefaultActor object at 0x7d74f61f8f70>)\n",
            "  File \"/usr/local/lib/python3.10/dist-packages/flwr/simulation/ray_transport/ray_actor.py\", line 72, in run\n",
            "    raise ClientException(str(message)) from ex\n",
            "flwr.simulation.ray_transport.ray_actor.ClientException: \n",
            ">>>>>>>A ClientException occurred.('\\n\\tSomething went wrong when running your client workload.\\n\\tClient 4 crashed when the DefaultActor was running its workload.\\n\\tException triggered on the client side: Traceback (most recent call last):\\n  File \"/usr/local/lib/python3.10/dist-packages/flwr/simulation/ray_transport/ray_actor.py\", line 60, in run\\n    job_results = job_fn()\\n  File \"/usr/local/lib/python3.10/dist-packages/flwr/simulation/ray_transport/ray_client_proxy.py\", line 178, in get_parameters\\n    client: Client = _create_client(self.client_fn, self.cid)\\n  File \"/usr/local/lib/python3.10/dist-packages/flwr/simulation/ray_transport/ray_client_proxy.py\", line 284, in _create_client\\n    client_like: ClientLike = client_fn(cid)\\n  File \"<ipython-input-25-018fa473c488>\", line 5, in client_fn\\nAttributeError: \\'Sequential\\' object has no attribute \\'to\\'\\n',)\n",
            "ERROR flwr 2023-09-07 05:52:55,065 | app.py:296 | Traceback (most recent call last):\n",
            "  File \"/usr/local/lib/python3.10/dist-packages/flwr/simulation/app.py\", line 290, in start_simulation\n",
            "    hist = run_fl(\n",
            "  File \"/usr/local/lib/python3.10/dist-packages/flwr/server/app.py\", line 224, in run_fl\n",
            "    hist = server.fit(num_rounds=config.num_rounds, timeout=config.round_timeout)\n",
            "  File \"/usr/local/lib/python3.10/dist-packages/flwr/server/server.py\", line 90, in fit\n",
            "    self.parameters = self._get_initial_parameters(timeout=timeout)\n",
            "  File \"/usr/local/lib/python3.10/dist-packages/flwr/server/server.py\", line 279, in _get_initial_parameters\n",
            "    get_parameters_res = random_client.get_parameters(ins=ins, timeout=timeout)\n",
            "  File \"/usr/local/lib/python3.10/dist-packages/flwr/simulation/ray_transport/ray_client_proxy.py\", line 184, in get_parameters\n",
            "    res = self._submit_job(get_parameters, timeout)\n",
            "  File \"/usr/local/lib/python3.10/dist-packages/flwr/simulation/ray_transport/ray_client_proxy.py\", line 149, in _submit_job\n",
            "    raise ex\n",
            "  File \"/usr/local/lib/python3.10/dist-packages/flwr/simulation/ray_transport/ray_client_proxy.py\", line 140, in _submit_job\n",
            "    res = self.actor_pool.get_client_result(self.cid, timeout)\n",
            "  File \"/usr/local/lib/python3.10/dist-packages/flwr/simulation/ray_transport/ray_actor.py\", line 402, in get_client_result\n",
            "    return self._fetch_future_result(cid)\n",
            "  File \"/usr/local/lib/python3.10/dist-packages/flwr/simulation/ray_transport/ray_actor.py\", line 288, in _fetch_future_result\n",
            "    res_cid, res = ray.get(future)  # type: (str, ClientRes)\n",
            "  File \"/usr/local/lib/python3.10/dist-packages/ray/_private/auto_init_hook.py\", line 24, in auto_init_wrapper\n",
            "    return fn(*args, **kwargs)\n",
            "  File \"/usr/local/lib/python3.10/dist-packages/ray/_private/client_mode_hook.py\", line 103, in wrapper\n",
            "    return func(*args, **kwargs)\n",
            "  File \"/usr/local/lib/python3.10/dist-packages/ray/_private/worker.py\", line 2524, in get\n",
            "    raise value.as_instanceof_cause()\n",
            "ray.exceptions.RayTaskError(ClientException): \u001b[36mray::DefaultActor.run()\u001b[39m (pid=12085, ip=172.28.0.12, actor_id=a466fffac31cebfefaffeb4b01000000, repr=<flwr.simulation.ray_transport.ray_actor.DefaultActor object at 0x7d74f61f8f70>)\n",
            "  File \"/usr/local/lib/python3.10/dist-packages/flwr/simulation/ray_transport/ray_client_proxy.py\", line 178, in get_parameters\n",
            "    client: Client = _create_client(self.client_fn, self.cid)\n",
            "  File \"/usr/local/lib/python3.10/dist-packages/flwr/simulation/ray_transport/ray_client_proxy.py\", line 284, in _create_client\n",
            "    client_like: ClientLike = client_fn(cid)\n",
            "  File \"<ipython-input-25-018fa473c488>\", line 5, in client_fn\n",
            "AttributeError: 'Sequential' object has no attribute 'to'\n",
            "\n",
            "The above exception was the direct cause of the following exception:\n",
            "\n",
            "\u001b[36mray::DefaultActor.run()\u001b[39m (pid=12085, ip=172.28.0.12, actor_id=a466fffac31cebfefaffeb4b01000000, repr=<flwr.simulation.ray_transport.ray_actor.DefaultActor object at 0x7d74f61f8f70>)\n",
            "  File \"/usr/local/lib/python3.10/dist-packages/flwr/simulation/ray_transport/ray_actor.py\", line 72, in run\n",
            "    raise ClientException(str(message)) from ex\n",
            "flwr.simulation.ray_transport.ray_actor.ClientException: \n",
            ">>>>>>>A ClientException occurred.('\\n\\tSomething went wrong when running your client workload.\\n\\tClient 4 crashed when the DefaultActor was running its workload.\\n\\tException triggered on the client side: Traceback (most recent call last):\\n  File \"/usr/local/lib/python3.10/dist-packages/flwr/simulation/ray_transport/ray_actor.py\", line 60, in run\\n    job_results = job_fn()\\n  File \"/usr/local/lib/python3.10/dist-packages/flwr/simulation/ray_transport/ray_client_proxy.py\", line 178, in get_parameters\\n    client: Client = _create_client(self.client_fn, self.cid)\\n  File \"/usr/local/lib/python3.10/dist-packages/flwr/simulation/ray_transport/ray_client_proxy.py\", line 284, in _create_client\\n    client_like: ClientLike = client_fn(cid)\\n  File \"<ipython-input-25-018fa473c488>\", line 5, in client_fn\\nAttributeError: \\'Sequential\\' object has no attribute \\'to\\'\\n',)\n",
            "\n",
            "ERROR:flwr:Traceback (most recent call last):\n",
            "  File \"/usr/local/lib/python3.10/dist-packages/flwr/simulation/app.py\", line 290, in start_simulation\n",
            "    hist = run_fl(\n",
            "  File \"/usr/local/lib/python3.10/dist-packages/flwr/server/app.py\", line 224, in run_fl\n",
            "    hist = server.fit(num_rounds=config.num_rounds, timeout=config.round_timeout)\n",
            "  File \"/usr/local/lib/python3.10/dist-packages/flwr/server/server.py\", line 90, in fit\n",
            "    self.parameters = self._get_initial_parameters(timeout=timeout)\n",
            "  File \"/usr/local/lib/python3.10/dist-packages/flwr/server/server.py\", line 279, in _get_initial_parameters\n",
            "    get_parameters_res = random_client.get_parameters(ins=ins, timeout=timeout)\n",
            "  File \"/usr/local/lib/python3.10/dist-packages/flwr/simulation/ray_transport/ray_client_proxy.py\", line 184, in get_parameters\n",
            "    res = self._submit_job(get_parameters, timeout)\n",
            "  File \"/usr/local/lib/python3.10/dist-packages/flwr/simulation/ray_transport/ray_client_proxy.py\", line 149, in _submit_job\n",
            "    raise ex\n",
            "  File \"/usr/local/lib/python3.10/dist-packages/flwr/simulation/ray_transport/ray_client_proxy.py\", line 140, in _submit_job\n",
            "    res = self.actor_pool.get_client_result(self.cid, timeout)\n",
            "  File \"/usr/local/lib/python3.10/dist-packages/flwr/simulation/ray_transport/ray_actor.py\", line 402, in get_client_result\n",
            "    return self._fetch_future_result(cid)\n",
            "  File \"/usr/local/lib/python3.10/dist-packages/flwr/simulation/ray_transport/ray_actor.py\", line 288, in _fetch_future_result\n",
            "    res_cid, res = ray.get(future)  # type: (str, ClientRes)\n",
            "  File \"/usr/local/lib/python3.10/dist-packages/ray/_private/auto_init_hook.py\", line 24, in auto_init_wrapper\n",
            "    return fn(*args, **kwargs)\n",
            "  File \"/usr/local/lib/python3.10/dist-packages/ray/_private/client_mode_hook.py\", line 103, in wrapper\n",
            "    return func(*args, **kwargs)\n",
            "  File \"/usr/local/lib/python3.10/dist-packages/ray/_private/worker.py\", line 2524, in get\n",
            "    raise value.as_instanceof_cause()\n",
            "ray.exceptions.RayTaskError(ClientException): \u001b[36mray::DefaultActor.run()\u001b[39m (pid=12085, ip=172.28.0.12, actor_id=a466fffac31cebfefaffeb4b01000000, repr=<flwr.simulation.ray_transport.ray_actor.DefaultActor object at 0x7d74f61f8f70>)\n",
            "  File \"/usr/local/lib/python3.10/dist-packages/flwr/simulation/ray_transport/ray_client_proxy.py\", line 178, in get_parameters\n",
            "    client: Client = _create_client(self.client_fn, self.cid)\n",
            "  File \"/usr/local/lib/python3.10/dist-packages/flwr/simulation/ray_transport/ray_client_proxy.py\", line 284, in _create_client\n",
            "    client_like: ClientLike = client_fn(cid)\n",
            "  File \"<ipython-input-25-018fa473c488>\", line 5, in client_fn\n",
            "AttributeError: 'Sequential' object has no attribute 'to'\n",
            "\n",
            "The above exception was the direct cause of the following exception:\n",
            "\n",
            "\u001b[36mray::DefaultActor.run()\u001b[39m (pid=12085, ip=172.28.0.12, actor_id=a466fffac31cebfefaffeb4b01000000, repr=<flwr.simulation.ray_transport.ray_actor.DefaultActor object at 0x7d74f61f8f70>)\n",
            "  File \"/usr/local/lib/python3.10/dist-packages/flwr/simulation/ray_transport/ray_actor.py\", line 72, in run\n",
            "    raise ClientException(str(message)) from ex\n",
            "flwr.simulation.ray_transport.ray_actor.ClientException: \n",
            ">>>>>>>A ClientException occurred.('\\n\\tSomething went wrong when running your client workload.\\n\\tClient 4 crashed when the DefaultActor was running its workload.\\n\\tException triggered on the client side: Traceback (most recent call last):\\n  File \"/usr/local/lib/python3.10/dist-packages/flwr/simulation/ray_transport/ray_actor.py\", line 60, in run\\n    job_results = job_fn()\\n  File \"/usr/local/lib/python3.10/dist-packages/flwr/simulation/ray_transport/ray_client_proxy.py\", line 178, in get_parameters\\n    client: Client = _create_client(self.client_fn, self.cid)\\n  File \"/usr/local/lib/python3.10/dist-packages/flwr/simulation/ray_transport/ray_client_proxy.py\", line 284, in _create_client\\n    client_like: ClientLike = client_fn(cid)\\n  File \"<ipython-input-25-018fa473c488>\", line 5, in client_fn\\nAttributeError: \\'Sequential\\' object has no attribute \\'to\\'\\n',)\n",
            "\n",
            "ERROR flwr 2023-09-07 05:52:55,067 | app.py:297 | Your simulation crashed :(. This could be because of several reasons.The most common are: \n",
            "\t > Your system couldn't fit a single VirtualClient: try lowering `client_resources`.\n",
            "\t > All the actors in your pool crashed. This could be because: \n",
            "\t\t - You clients hit an out-of-memory (OOM) error and actors couldn't recover from it. Try launching your simulation with more generous `client_resources` setting (i.e. it seems {'num_cpus': 1, 'num_gpus': 0.0} is not enough for your workload). Use fewer concurrent actors. \n",
            "\t\t - You were running a multi-node simulation and all worker nodes disconnected. The head node might still be alive but cannot accommodate any actor with resources: {'num_cpus': 1, 'num_gpus': 0.0}.\n",
            "ERROR:flwr:Your simulation crashed :(. This could be because of several reasons.The most common are: \n",
            "\t > Your system couldn't fit a single VirtualClient: try lowering `client_resources`.\n",
            "\t > All the actors in your pool crashed. This could be because: \n",
            "\t\t - You clients hit an out-of-memory (OOM) error and actors couldn't recover from it. Try launching your simulation with more generous `client_resources` setting (i.e. it seems {'num_cpus': 1, 'num_gpus': 0.0} is not enough for your workload). Use fewer concurrent actors. \n",
            "\t\t - You were running a multi-node simulation and all worker nodes disconnected. The head node might still be alive but cannot accommodate any actor with resources: {'num_cpus': 1, 'num_gpus': 0.0}.\n"
          ]
        },
        {
          "data": {
            "text/plain": []
          },
          "execution_count": 26,
          "metadata": {},
          "output_type": "execute_result"
        }
      ],
      "source": [
        "# Create FedAvg strategy\n",
        "strategy = fl.server.strategy.FedAvg(\n",
        "    fraction_fit=1.0,  # Sample 100% of available clients for training\n",
        "    fraction_evaluate=0.5,  # Sample 50% of available clients for evaluation\n",
        "    min_fit_clients=3,  # Never sample less than 10 clients for training\n",
        "    min_evaluate_clients=1,  # Never sample less than 5 clients for evaluation\n",
        "    min_available_clients=3,  # Wait until all 10 clients are available\n",
        ")\n",
        "\n",
        "# Specify client resources if you need GPU (defaults to 1 CPU and 0 GPU)\n",
        "client_resources = None\n",
        "if DEVICE.type == \"cuda\":\n",
        "    client_resources = {\"num_gpus\": 1}\n",
        "\n",
        "# Start simulation\n",
        "fl.simulation.start_simulation(\n",
        "    client_fn=client_fn,\n",
        "    num_clients=NUM_CLIENTS,\n",
        "    config=fl.server.ServerConfig(num_rounds=5),\n",
        "    strategy=strategy,\n",
        "    client_resources=client_resources,\n",
        ")\n"
      ]
    },
    {
      "cell_type": "code",
      "execution_count": null,
      "metadata": {
        "id": "XydpfiPC2R7j"
      },
      "outputs": [],
      "source": [
        "def weighted_average(metrics: List[Tuple[int, Metrics]]) -> Metrics:\n",
        "    # Multiply accuracy of each client by number of examples used\n",
        "    accuracies = [num_examples * m[\"accuracy\"] for num_examples, m in metrics]\n",
        "    examples = [num_examples for num_examples, _ in metrics]\n",
        "\n",
        "    # Aggregate and return custom metric (weighted average)\n",
        "    return {\"accuracy\": sum(accuracies) / sum(examples)}"
      ]
    },
    {
      "cell_type": "code",
      "execution_count": null,
      "metadata": {
        "colab": {
          "base_uri": "https://localhost:8080/"
        },
        "id": "9eRewsP-2SXX",
        "outputId": "e89d3032-5b6c-437f-f7bb-271d93230b7a"
      },
      "outputs": [
        {
          "name": "stderr",
          "output_type": "stream",
          "text": [
            "INFO flwr 2023-09-06 18:41:07,670 | app.py:176 | Starting Flower simulation, config: ServerConfig(num_rounds=5, round_timeout=None)\n",
            "INFO:flwr:Starting Flower simulation, config: ServerConfig(num_rounds=5, round_timeout=None)\n",
            "2023-09-06 18:41:13,059\tINFO worker.py:1621 -- Started a local Ray instance.\n",
            "INFO flwr 2023-09-06 18:41:15,269 | app.py:211 | Flower VCE: Ray initialized with resources: {'object_store_memory': 3967817318.0, 'node:__internal_head__': 1.0, 'memory': 7935634638.0, 'CPU': 2.0, 'node:172.28.0.12': 1.0, 'GPU': 1.0}\n",
            "INFO:flwr:Flower VCE: Ray initialized with resources: {'object_store_memory': 3967817318.0, 'node:__internal_head__': 1.0, 'memory': 7935634638.0, 'CPU': 2.0, 'node:172.28.0.12': 1.0, 'GPU': 1.0}\n",
            "INFO flwr 2023-09-06 18:41:15,281 | app.py:219 | No `client_resources` specified. Using minimal resources for clients.\n",
            "INFO:flwr:No `client_resources` specified. Using minimal resources for clients.\n",
            "INFO flwr 2023-09-06 18:41:15,287 | app.py:225 | Flower VCE: Resources for each Virtual Client: {'num_cpus': 1, 'num_gpus': 0.0}\n",
            "INFO:flwr:Flower VCE: Resources for each Virtual Client: {'num_cpus': 1, 'num_gpus': 0.0}\n",
            "INFO flwr 2023-09-06 18:41:15,333 | app.py:271 | Flower VCE: Creating VirtualClientEngineActorPool with 2 actors\n",
            "INFO:flwr:Flower VCE: Creating VirtualClientEngineActorPool with 2 actors\n",
            "INFO flwr 2023-09-06 18:41:15,338 | server.py:89 | Initializing global parameters\n",
            "INFO:flwr:Initializing global parameters\n",
            "INFO flwr 2023-09-06 18:41:15,344 | server.py:276 | Requesting initial parameters from one random client\n",
            "INFO:flwr:Requesting initial parameters from one random client\n",
            "\u001b[2m\u001b[36m(pid=52534)\u001b[0m 2023-09-06 18:41:18.845639: W tensorflow/compiler/tf2tensorrt/utils/py_utils.cc:38] TF-TRT Warning: Could not find TensorRT\n",
            "INFO flwr 2023-09-06 18:41:26,391 | server.py:280 | Received initial parameters from one random client\n",
            "INFO:flwr:Received initial parameters from one random client\n",
            "INFO flwr 2023-09-06 18:41:26,394 | server.py:91 | Evaluating initial parameters\n",
            "INFO:flwr:Evaluating initial parameters\n",
            "INFO flwr 2023-09-06 18:41:26,398 | server.py:104 | FL starting\n",
            "INFO:flwr:FL starting\n",
            "DEBUG flwr 2023-09-06 18:41:26,400 | server.py:222 | fit_round 1: strategy sampled 9 clients (out of 9)\n",
            "DEBUG:flwr:fit_round 1: strategy sampled 9 clients (out of 9)\n",
            "DEBUG flwr 2023-09-06 18:44:03,880 | server.py:236 | fit_round 1 received 9 results and 0 failures\n",
            "DEBUG:flwr:fit_round 1 received 9 results and 0 failures\n",
            "WARNING flwr 2023-09-06 18:44:04,093 | fedavg.py:242 | No fit_metrics_aggregation_fn provided\n",
            "WARNING:flwr:No fit_metrics_aggregation_fn provided\n",
            "DEBUG flwr 2023-09-06 18:44:04,098 | server.py:173 | evaluate_round 1: strategy sampled 4 clients (out of 9)\n",
            "DEBUG:flwr:evaluate_round 1: strategy sampled 4 clients (out of 9)\n",
            "DEBUG flwr 2023-09-06 18:44:07,003 | server.py:187 | evaluate_round 1 received 4 results and 0 failures\n",
            "DEBUG:flwr:evaluate_round 1 received 4 results and 0 failures\n",
            "DEBUG flwr 2023-09-06 18:44:07,010 | server.py:222 | fit_round 2: strategy sampled 9 clients (out of 9)\n",
            "DEBUG:flwr:fit_round 2: strategy sampled 9 clients (out of 9)\n",
            "DEBUG flwr 2023-09-06 18:46:33,373 | server.py:236 | fit_round 2 received 9 results and 0 failures\n",
            "DEBUG:flwr:fit_round 2 received 9 results and 0 failures\n",
            "DEBUG flwr 2023-09-06 18:46:33,565 | server.py:173 | evaluate_round 2: strategy sampled 4 clients (out of 9)\n",
            "DEBUG:flwr:evaluate_round 2: strategy sampled 4 clients (out of 9)\n",
            "DEBUG flwr 2023-09-06 18:46:36,512 | server.py:187 | evaluate_round 2 received 4 results and 0 failures\n",
            "DEBUG:flwr:evaluate_round 2 received 4 results and 0 failures\n",
            "DEBUG flwr 2023-09-06 18:46:36,520 | server.py:222 | fit_round 3: strategy sampled 9 clients (out of 9)\n",
            "DEBUG:flwr:fit_round 3: strategy sampled 9 clients (out of 9)\n",
            "DEBUG flwr 2023-09-06 18:49:12,384 | server.py:236 | fit_round 3 received 9 results and 0 failures\n",
            "DEBUG:flwr:fit_round 3 received 9 results and 0 failures\n",
            "DEBUG flwr 2023-09-06 18:49:12,594 | server.py:173 | evaluate_round 3: strategy sampled 4 clients (out of 9)\n",
            "DEBUG:flwr:evaluate_round 3: strategy sampled 4 clients (out of 9)\n",
            "DEBUG flwr 2023-09-06 18:49:15,513 | server.py:187 | evaluate_round 3 received 4 results and 0 failures\n",
            "DEBUG:flwr:evaluate_round 3 received 4 results and 0 failures\n",
            "DEBUG flwr 2023-09-06 18:49:15,522 | server.py:222 | fit_round 4: strategy sampled 9 clients (out of 9)\n",
            "DEBUG:flwr:fit_round 4: strategy sampled 9 clients (out of 9)\n",
            "DEBUG flwr 2023-09-06 18:51:45,856 | server.py:236 | fit_round 4 received 9 results and 0 failures\n",
            "DEBUG:flwr:fit_round 4 received 9 results and 0 failures\n",
            "DEBUG flwr 2023-09-06 18:51:46,046 | server.py:173 | evaluate_round 4: strategy sampled 4 clients (out of 9)\n",
            "DEBUG:flwr:evaluate_round 4: strategy sampled 4 clients (out of 9)\n",
            "DEBUG flwr 2023-09-06 18:51:48,923 | server.py:187 | evaluate_round 4 received 4 results and 0 failures\n",
            "DEBUG:flwr:evaluate_round 4 received 4 results and 0 failures\n",
            "DEBUG flwr 2023-09-06 18:51:48,930 | server.py:222 | fit_round 5: strategy sampled 9 clients (out of 9)\n",
            "DEBUG:flwr:fit_round 5: strategy sampled 9 clients (out of 9)\n",
            "DEBUG flwr 2023-09-06 18:54:22,623 | server.py:236 | fit_round 5 received 9 results and 0 failures\n",
            "DEBUG:flwr:fit_round 5 received 9 results and 0 failures\n",
            "DEBUG flwr 2023-09-06 18:54:22,803 | server.py:173 | evaluate_round 5: strategy sampled 4 clients (out of 9)\n",
            "DEBUG:flwr:evaluate_round 5: strategy sampled 4 clients (out of 9)\n",
            "DEBUG flwr 2023-09-06 18:54:27,955 | server.py:187 | evaluate_round 5 received 4 results and 0 failures\n",
            "DEBUG:flwr:evaluate_round 5 received 4 results and 0 failures\n",
            "INFO flwr 2023-09-06 18:54:27,958 | server.py:153 | FL finished in 781.5583614890002\n",
            "INFO:flwr:FL finished in 781.5583614890002\n",
            "INFO flwr 2023-09-06 18:54:27,960 | app.py:225 | app_fit: losses_distributed [(1, 0.04761152748357166), (2, 0.04003636708313768), (3, 0.039391534233635124), (4, 0.03779027729549191), (5, 0.03713653575290333)]\n",
            "INFO:flwr:app_fit: losses_distributed [(1, 0.04761152748357166), (2, 0.04003636708313768), (3, 0.039391534233635124), (4, 0.03779027729549191), (5, 0.03713653575290333)]\n",
            "INFO flwr 2023-09-06 18:54:27,962 | app.py:226 | app_fit: metrics_distributed_fit {}\n",
            "INFO:flwr:app_fit: metrics_distributed_fit {}\n",
            "INFO flwr 2023-09-06 18:54:27,968 | app.py:227 | app_fit: metrics_distributed {'accuracy': [(1, 0.33522727272727276), (2, 0.4943181818181818), (3, 0.4801136363636364), (4, 0.5227272727272728), (5, 0.4943181818181818)]}\n",
            "INFO:flwr:app_fit: metrics_distributed {'accuracy': [(1, 0.33522727272727276), (2, 0.4943181818181818), (3, 0.4801136363636364), (4, 0.5227272727272728), (5, 0.4943181818181818)]}\n",
            "INFO flwr 2023-09-06 18:54:27,969 | app.py:228 | app_fit: losses_centralized []\n",
            "INFO:flwr:app_fit: losses_centralized []\n",
            "INFO flwr 2023-09-06 18:54:27,971 | app.py:229 | app_fit: metrics_centralized {}\n",
            "INFO:flwr:app_fit: metrics_centralized {}\n"
          ]
        },
        {
          "data": {
            "text/plain": [
              "History (loss, distributed):\n",
              "\tround 1: 0.04761152748357166\n",
              "\tround 2: 0.04003636708313768\n",
              "\tround 3: 0.039391534233635124\n",
              "\tround 4: 0.03779027729549191\n",
              "\tround 5: 0.03713653575290333\n",
              "History (metrics, distributed, evaluate):\n",
              "{'accuracy': [(1, 0.33522727272727276), (2, 0.4943181818181818), (3, 0.4801136363636364), (4, 0.5227272727272728), (5, 0.4943181818181818)]}"
            ]
          },
          "execution_count": 47,
          "metadata": {},
          "output_type": "execute_result"
        }
      ],
      "source": [
        "# Create FedAvg strategy\n",
        "strategy = fl.server.strategy.FedAvg(\n",
        "    fraction_fit=1.0,\n",
        "    fraction_evaluate=0.5,\n",
        "    min_fit_clients=3,\n",
        "    min_evaluate_clients=1,\n",
        "    min_available_clients=3,\n",
        "    evaluate_metrics_aggregation_fn=weighted_average,  # <-- pass the metric aggregation function\n",
        ")\n",
        "\n",
        "# Start simulation\n",
        "fl.simulation.start_simulation(\n",
        "    client_fn=client_fn,\n",
        "    num_clients=NUM_CLIENTS,\n",
        "    config=fl.server.ServerConfig(num_rounds=5),\n",
        "    strategy=strategy,\n",
        "    client_resources=client_resources,\n",
        ")"
      ]
    },
    {
      "cell_type": "code",
      "execution_count": null,
      "metadata": {
        "colab": {
          "base_uri": "https://localhost:8080/"
        },
        "id": "Y6BpV5MM4Mm-",
        "outputId": "ae4d3dce-a8d4-4005-bc7a-5e90994a90ae"
      },
      "outputs": [
        {
          "name": "stdout",
          "output_type": "stream",
          "text": [
            "Requirement already satisfied: ray in /usr/local/lib/python3.10/dist-packages (2.6.3)\n",
            "Requirement already satisfied: click>=7.0 in /usr/local/lib/python3.10/dist-packages (from ray) (8.1.7)\n",
            "Requirement already satisfied: filelock in /usr/local/lib/python3.10/dist-packages (from ray) (3.12.2)\n",
            "Requirement already satisfied: jsonschema in /usr/local/lib/python3.10/dist-packages (from ray) (4.19.0)\n",
            "Requirement already satisfied: msgpack<2.0.0,>=1.0.0 in /usr/local/lib/python3.10/dist-packages (from ray) (1.0.5)\n",
            "Requirement already satisfied: packaging in /usr/local/lib/python3.10/dist-packages (from ray) (23.1)\n",
            "Requirement already satisfied: protobuf!=3.19.5,>=3.15.3 in /usr/local/lib/python3.10/dist-packages (from ray) (3.20.3)\n",
            "Requirement already satisfied: pyyaml in /usr/local/lib/python3.10/dist-packages (from ray) (6.0.1)\n",
            "Requirement already satisfied: aiosignal in /usr/local/lib/python3.10/dist-packages (from ray) (1.3.1)\n",
            "Requirement already satisfied: frozenlist in /usr/local/lib/python3.10/dist-packages (from ray) (1.4.0)\n",
            "Requirement already satisfied: requests in /usr/local/lib/python3.10/dist-packages (from ray) (2.31.0)\n",
            "Requirement already satisfied: grpcio>=1.42.0 in /usr/local/lib/python3.10/dist-packages (from ray) (1.57.0)\n",
            "Requirement already satisfied: numpy>=1.19.3 in /usr/local/lib/python3.10/dist-packages (from ray) (1.23.5)\n",
            "Requirement already satisfied: attrs>=22.2.0 in /usr/local/lib/python3.10/dist-packages (from jsonschema->ray) (23.1.0)\n",
            "Requirement already satisfied: jsonschema-specifications>=2023.03.6 in /usr/local/lib/python3.10/dist-packages (from jsonschema->ray) (2023.7.1)\n",
            "Requirement already satisfied: referencing>=0.28.4 in /usr/local/lib/python3.10/dist-packages (from jsonschema->ray) (0.30.2)\n",
            "Requirement already satisfied: rpds-py>=0.7.1 in /usr/local/lib/python3.10/dist-packages (from jsonschema->ray) (0.9.2)\n",
            "Requirement already satisfied: charset-normalizer<4,>=2 in /usr/local/lib/python3.10/dist-packages (from requests->ray) (3.2.0)\n",
            "Requirement already satisfied: idna<4,>=2.5 in /usr/local/lib/python3.10/dist-packages (from requests->ray) (3.4)\n",
            "Requirement already satisfied: urllib3<3,>=1.21.1 in /usr/local/lib/python3.10/dist-packages (from requests->ray) (2.0.4)\n",
            "Requirement already satisfied: certifi>=2017.4.17 in /usr/local/lib/python3.10/dist-packages (from requests->ray) (2023.7.22)\n"
          ]
        }
      ],
      "source": [
        "pip install ray\n"
      ]
    },
    {
      "cell_type": "code",
      "execution_count": null,
      "metadata": {
        "id": "-RIQRKUx4eF5"
      },
      "outputs": [],
      "source": [
        "import ray\n"
      ]
    },
    {
      "cell_type": "code",
      "execution_count": null,
      "metadata": {
        "colab": {
          "base_uri": "https://localhost:8080/"
        },
        "id": "1wMiDk344sxO",
        "outputId": "2ceb9672-5233-4aca-fdb7-5ae21f3b7bdf"
      },
      "outputs": [
        {
          "name": "stdout",
          "output_type": "stream",
          "text": [
            "Requirement already satisfied: flwr[simulation] in /usr/local/lib/python3.10/dist-packages (1.6.0)\n",
            "Requirement already satisfied: cryptography<42.0.0,>=41.0.2 in /usr/local/lib/python3.10/dist-packages (from flwr[simulation]) (41.0.3)\n",
            "Requirement already satisfied: grpcio!=1.52.0,<2.0.0,>=1.48.2 in /usr/local/lib/python3.10/dist-packages (from flwr[simulation]) (1.57.0)\n",
            "Requirement already satisfied: iterators<0.0.3,>=0.0.2 in /usr/local/lib/python3.10/dist-packages (from flwr[simulation]) (0.0.2)\n",
            "Requirement already satisfied: numpy<2.0.0,>=1.21.0 in /usr/local/lib/python3.10/dist-packages (from flwr[simulation]) (1.23.5)\n",
            "Requirement already satisfied: protobuf<4.0.0,>=3.19.0 in /usr/local/lib/python3.10/dist-packages (from flwr[simulation]) (3.20.3)\n",
            "Requirement already satisfied: pycryptodome<4.0.0,>=3.18.0 in /usr/local/lib/python3.10/dist-packages (from flwr[simulation]) (3.18.0)\n",
            "Requirement already satisfied: pydantic<2.0.0 in /usr/local/lib/python3.10/dist-packages (from flwr[simulation]) (1.10.12)\n",
            "Requirement already satisfied: ray[default]==2.6.3 in /usr/local/lib/python3.10/dist-packages (from flwr[simulation]) (2.6.3)\n",
            "Requirement already satisfied: click>=7.0 in /usr/local/lib/python3.10/dist-packages (from ray[default]==2.6.3->flwr[simulation]) (8.1.7)\n",
            "Requirement already satisfied: filelock in /usr/local/lib/python3.10/dist-packages (from ray[default]==2.6.3->flwr[simulation]) (3.12.2)\n",
            "Requirement already satisfied: jsonschema in /usr/local/lib/python3.10/dist-packages (from ray[default]==2.6.3->flwr[simulation]) (4.19.0)\n",
            "Requirement already satisfied: msgpack<2.0.0,>=1.0.0 in /usr/local/lib/python3.10/dist-packages (from ray[default]==2.6.3->flwr[simulation]) (1.0.5)\n",
            "Requirement already satisfied: packaging in /usr/local/lib/python3.10/dist-packages (from ray[default]==2.6.3->flwr[simulation]) (23.1)\n",
            "Requirement already satisfied: pyyaml in /usr/local/lib/python3.10/dist-packages (from ray[default]==2.6.3->flwr[simulation]) (6.0.1)\n",
            "Requirement already satisfied: aiosignal in /usr/local/lib/python3.10/dist-packages (from ray[default]==2.6.3->flwr[simulation]) (1.3.1)\n",
            "Requirement already satisfied: frozenlist in /usr/local/lib/python3.10/dist-packages (from ray[default]==2.6.3->flwr[simulation]) (1.4.0)\n",
            "Requirement already satisfied: requests in /usr/local/lib/python3.10/dist-packages (from ray[default]==2.6.3->flwr[simulation]) (2.31.0)\n",
            "Requirement already satisfied: aiohttp>=3.7 in /usr/local/lib/python3.10/dist-packages (from ray[default]==2.6.3->flwr[simulation]) (3.8.5)\n",
            "Requirement already satisfied: aiohttp-cors in /usr/local/lib/python3.10/dist-packages (from ray[default]==2.6.3->flwr[simulation]) (0.7.0)\n",
            "Requirement already satisfied: colorful in /usr/local/lib/python3.10/dist-packages (from ray[default]==2.6.3->flwr[simulation]) (0.5.5)\n",
            "Requirement already satisfied: py-spy>=0.2.0 in /usr/local/lib/python3.10/dist-packages (from ray[default]==2.6.3->flwr[simulation]) (0.3.14)\n",
            "Requirement already satisfied: gpustat>=1.0.0 in /usr/local/lib/python3.10/dist-packages (from ray[default]==2.6.3->flwr[simulation]) (1.1.1)\n",
            "Requirement already satisfied: opencensus in /usr/local/lib/python3.10/dist-packages (from ray[default]==2.6.3->flwr[simulation]) (0.11.2)\n",
            "Requirement already satisfied: prometheus-client>=0.7.1 in /usr/local/lib/python3.10/dist-packages (from ray[default]==2.6.3->flwr[simulation]) (0.17.1)\n",
            "Requirement already satisfied: smart-open in /usr/local/lib/python3.10/dist-packages (from ray[default]==2.6.3->flwr[simulation]) (6.3.0)\n",
            "Requirement already satisfied: virtualenv<20.21.1,>=20.0.24 in /usr/local/lib/python3.10/dist-packages (from ray[default]==2.6.3->flwr[simulation]) (20.21.0)\n",
            "Requirement already satisfied: cffi>=1.12 in /usr/local/lib/python3.10/dist-packages (from cryptography<42.0.0,>=41.0.2->flwr[simulation]) (1.15.1)\n",
            "Requirement already satisfied: typing-extensions>=4.2.0 in /usr/local/lib/python3.10/dist-packages (from pydantic<2.0.0->flwr[simulation]) (4.7.1)\n",
            "Requirement already satisfied: attrs>=17.3.0 in /usr/local/lib/python3.10/dist-packages (from aiohttp>=3.7->ray[default]==2.6.3->flwr[simulation]) (23.1.0)\n",
            "Requirement already satisfied: charset-normalizer<4.0,>=2.0 in /usr/local/lib/python3.10/dist-packages (from aiohttp>=3.7->ray[default]==2.6.3->flwr[simulation]) (3.2.0)\n",
            "Requirement already satisfied: multidict<7.0,>=4.5 in /usr/local/lib/python3.10/dist-packages (from aiohttp>=3.7->ray[default]==2.6.3->flwr[simulation]) (6.0.4)\n",
            "Requirement already satisfied: async-timeout<5.0,>=4.0.0a3 in /usr/local/lib/python3.10/dist-packages (from aiohttp>=3.7->ray[default]==2.6.3->flwr[simulation]) (4.0.3)\n",
            "Requirement already satisfied: yarl<2.0,>=1.0 in /usr/local/lib/python3.10/dist-packages (from aiohttp>=3.7->ray[default]==2.6.3->flwr[simulation]) (1.9.2)\n",
            "Requirement already satisfied: pycparser in /usr/local/lib/python3.10/dist-packages (from cffi>=1.12->cryptography<42.0.0,>=41.0.2->flwr[simulation]) (2.21)\n",
            "Requirement already satisfied: nvidia-ml-py>=11.450.129 in /usr/local/lib/python3.10/dist-packages (from gpustat>=1.0.0->ray[default]==2.6.3->flwr[simulation]) (12.535.108)\n",
            "Requirement already satisfied: psutil>=5.6.0 in /usr/local/lib/python3.10/dist-packages (from gpustat>=1.0.0->ray[default]==2.6.3->flwr[simulation]) (5.9.5)\n",
            "Requirement already satisfied: blessed>=1.17.1 in /usr/local/lib/python3.10/dist-packages (from gpustat>=1.0.0->ray[default]==2.6.3->flwr[simulation]) (1.20.0)\n",
            "Requirement already satisfied: distlib<1,>=0.3.6 in /usr/local/lib/python3.10/dist-packages (from virtualenv<20.21.1,>=20.0.24->ray[default]==2.6.3->flwr[simulation]) (0.3.7)\n",
            "Requirement already satisfied: platformdirs<4,>=2.4 in /usr/local/lib/python3.10/dist-packages (from virtualenv<20.21.1,>=20.0.24->ray[default]==2.6.3->flwr[simulation]) (3.10.0)\n",
            "Requirement already satisfied: jsonschema-specifications>=2023.03.6 in /usr/local/lib/python3.10/dist-packages (from jsonschema->ray[default]==2.6.3->flwr[simulation]) (2023.7.1)\n",
            "Requirement already satisfied: referencing>=0.28.4 in /usr/local/lib/python3.10/dist-packages (from jsonschema->ray[default]==2.6.3->flwr[simulation]) (0.30.2)\n",
            "Requirement already satisfied: rpds-py>=0.7.1 in /usr/local/lib/python3.10/dist-packages (from jsonschema->ray[default]==2.6.3->flwr[simulation]) (0.9.2)\n",
            "Requirement already satisfied: opencensus-context>=0.1.3 in /usr/local/lib/python3.10/dist-packages (from opencensus->ray[default]==2.6.3->flwr[simulation]) (0.1.3)\n",
            "Requirement already satisfied: google-api-core<3.0.0,>=1.0.0 in /usr/local/lib/python3.10/dist-packages (from opencensus->ray[default]==2.6.3->flwr[simulation]) (2.11.1)\n",
            "Requirement already satisfied: idna<4,>=2.5 in /usr/local/lib/python3.10/dist-packages (from requests->ray[default]==2.6.3->flwr[simulation]) (3.4)\n",
            "Requirement already satisfied: urllib3<3,>=1.21.1 in /usr/local/lib/python3.10/dist-packages (from requests->ray[default]==2.6.3->flwr[simulation]) (2.0.4)\n",
            "Requirement already satisfied: certifi>=2017.4.17 in /usr/local/lib/python3.10/dist-packages (from requests->ray[default]==2.6.3->flwr[simulation]) (2023.7.22)\n",
            "Requirement already satisfied: wcwidth>=0.1.4 in /usr/local/lib/python3.10/dist-packages (from blessed>=1.17.1->gpustat>=1.0.0->ray[default]==2.6.3->flwr[simulation]) (0.2.6)\n",
            "Requirement already satisfied: six>=1.9.0 in /usr/local/lib/python3.10/dist-packages (from blessed>=1.17.1->gpustat>=1.0.0->ray[default]==2.6.3->flwr[simulation]) (1.16.0)\n",
            "Requirement already satisfied: googleapis-common-protos<2.0.dev0,>=1.56.2 in /usr/local/lib/python3.10/dist-packages (from google-api-core<3.0.0,>=1.0.0->opencensus->ray[default]==2.6.3->flwr[simulation]) (1.60.0)\n",
            "Requirement already satisfied: google-auth<3.0.dev0,>=2.14.1 in /usr/local/lib/python3.10/dist-packages (from google-api-core<3.0.0,>=1.0.0->opencensus->ray[default]==2.6.3->flwr[simulation]) (2.17.3)\n",
            "Requirement already satisfied: cachetools<6.0,>=2.0.0 in /usr/local/lib/python3.10/dist-packages (from google-auth<3.0.dev0,>=2.14.1->google-api-core<3.0.0,>=1.0.0->opencensus->ray[default]==2.6.3->flwr[simulation]) (5.3.1)\n",
            "Requirement already satisfied: pyasn1-modules>=0.2.1 in /usr/local/lib/python3.10/dist-packages (from google-auth<3.0.dev0,>=2.14.1->google-api-core<3.0.0,>=1.0.0->opencensus->ray[default]==2.6.3->flwr[simulation]) (0.3.0)\n",
            "Requirement already satisfied: rsa<5,>=3.1.4 in /usr/local/lib/python3.10/dist-packages (from google-auth<3.0.dev0,>=2.14.1->google-api-core<3.0.0,>=1.0.0->opencensus->ray[default]==2.6.3->flwr[simulation]) (4.9)\n",
            "Requirement already satisfied: pyasn1<0.6.0,>=0.4.6 in /usr/local/lib/python3.10/dist-packages (from pyasn1-modules>=0.2.1->google-auth<3.0.dev0,>=2.14.1->google-api-core<3.0.0,>=1.0.0->opencensus->ray[default]==2.6.3->flwr[simulation]) (0.5.0)\n"
          ]
        }
      ],
      "source": [
        "pip install -U flwr[\"simulation\"]"
      ]
    },
    {
      "cell_type": "code",
      "execution_count": null,
      "metadata": {
        "colab": {
          "base_uri": "https://localhost:8080/"
        },
        "id": "217L3SWy4hJX",
        "outputId": "b2d20597-57ac-4c53-9483-d27ae8c17e00"
      },
      "outputs": [
        {
          "name": "stderr",
          "output_type": "stream",
          "text": [
            "INFO flwr 2023-09-06 18:54:41,508 | app.py:176 | Starting Flower simulation, config: ServerConfig(num_rounds=5, round_timeout=None)\n",
            "INFO:flwr:Starting Flower simulation, config: ServerConfig(num_rounds=5, round_timeout=None)\n",
            "2023-09-06 18:54:48,182\tINFO worker.py:1621 -- Started a local Ray instance.\n",
            "INFO flwr 2023-09-06 18:54:51,471 | app.py:211 | Flower VCE: Ray initialized with resources: {'node:__internal_head__': 1.0, 'memory': 7923688244.0, 'CPU': 2.0, 'object_store_memory': 3961844121.0, 'node:172.28.0.12': 1.0, 'GPU': 1.0}\n",
            "INFO:flwr:Flower VCE: Ray initialized with resources: {'node:__internal_head__': 1.0, 'memory': 7923688244.0, 'CPU': 2.0, 'object_store_memory': 3961844121.0, 'node:172.28.0.12': 1.0, 'GPU': 1.0}\n",
            "INFO flwr 2023-09-06 18:54:51,488 | app.py:219 | No `client_resources` specified. Using minimal resources for clients.\n",
            "INFO:flwr:No `client_resources` specified. Using minimal resources for clients.\n",
            "INFO flwr 2023-09-06 18:54:51,496 | app.py:225 | Flower VCE: Resources for each Virtual Client: {'num_cpus': 1, 'num_gpus': 0.0}\n",
            "INFO:flwr:Flower VCE: Resources for each Virtual Client: {'num_cpus': 1, 'num_gpus': 0.0}\n",
            "INFO flwr 2023-09-06 18:54:51,584 | app.py:271 | Flower VCE: Creating VirtualClientEngineActorPool with 2 actors\n",
            "INFO:flwr:Flower VCE: Creating VirtualClientEngineActorPool with 2 actors\n",
            "INFO flwr 2023-09-06 18:54:51,596 | server.py:89 | Initializing global parameters\n",
            "INFO:flwr:Initializing global parameters\n",
            "INFO flwr 2023-09-06 18:54:51,611 | server.py:276 | Requesting initial parameters from one random client\n",
            "INFO:flwr:Requesting initial parameters from one random client\n",
            "\u001b[2m\u001b[36m(pid=56373)\u001b[0m 2023-09-06 18:55:01.728341: W tensorflow/compiler/tf2tensorrt/utils/py_utils.cc:38] TF-TRT Warning: Could not find TensorRT\n",
            "INFO flwr 2023-09-06 18:55:09,164 | server.py:280 | Received initial parameters from one random client\n",
            "INFO:flwr:Received initial parameters from one random client\n",
            "INFO flwr 2023-09-06 18:55:09,170 | server.py:91 | Evaluating initial parameters\n",
            "INFO:flwr:Evaluating initial parameters\n",
            "INFO flwr 2023-09-06 18:55:09,175 | server.py:104 | FL starting\n",
            "INFO:flwr:FL starting\n",
            "DEBUG flwr 2023-09-06 18:55:09,178 | server.py:222 | fit_round 1: strategy sampled 9 clients (out of 9)\n",
            "DEBUG:flwr:fit_round 1: strategy sampled 9 clients (out of 9)\n",
            "DEBUG flwr 2023-09-06 18:57:41,687 | server.py:236 | fit_round 1 received 9 results and 0 failures\n",
            "DEBUG:flwr:fit_round 1 received 9 results and 0 failures\n",
            "WARNING flwr 2023-09-06 18:57:41,874 | fedavg.py:242 | No fit_metrics_aggregation_fn provided\n",
            "WARNING:flwr:No fit_metrics_aggregation_fn provided\n",
            "DEBUG flwr 2023-09-06 18:57:41,879 | server.py:173 | evaluate_round 1: strategy sampled 4 clients (out of 9)\n",
            "DEBUG:flwr:evaluate_round 1: strategy sampled 4 clients (out of 9)\n",
            "DEBUG flwr 2023-09-06 18:57:44,916 | server.py:187 | evaluate_round 1 received 4 results and 0 failures\n",
            "DEBUG:flwr:evaluate_round 1 received 4 results and 0 failures\n",
            "WARNING flwr 2023-09-06 18:57:44,921 | fedavg.py:273 | No evaluate_metrics_aggregation_fn provided\n",
            "WARNING:flwr:No evaluate_metrics_aggregation_fn provided\n",
            "DEBUG flwr 2023-09-06 18:57:44,925 | server.py:222 | fit_round 2: strategy sampled 9 clients (out of 9)\n",
            "DEBUG:flwr:fit_round 2: strategy sampled 9 clients (out of 9)\n",
            "DEBUG flwr 2023-09-06 19:00:18,981 | server.py:236 | fit_round 2 received 9 results and 0 failures\n",
            "DEBUG:flwr:fit_round 2 received 9 results and 0 failures\n",
            "DEBUG flwr 2023-09-06 19:00:19,185 | server.py:173 | evaluate_round 2: strategy sampled 4 clients (out of 9)\n",
            "DEBUG:flwr:evaluate_round 2: strategy sampled 4 clients (out of 9)\n",
            "DEBUG flwr 2023-09-06 19:00:24,578 | server.py:187 | evaluate_round 2 received 4 results and 0 failures\n",
            "DEBUG:flwr:evaluate_round 2 received 4 results and 0 failures\n",
            "DEBUG flwr 2023-09-06 19:00:24,582 | server.py:222 | fit_round 3: strategy sampled 9 clients (out of 9)\n",
            "DEBUG:flwr:fit_round 3: strategy sampled 9 clients (out of 9)\n",
            "DEBUG flwr 2023-09-06 19:02:57,414 | server.py:236 | fit_round 3 received 9 results and 0 failures\n",
            "DEBUG:flwr:fit_round 3 received 9 results and 0 failures\n",
            "DEBUG flwr 2023-09-06 19:02:57,592 | server.py:173 | evaluate_round 3: strategy sampled 4 clients (out of 9)\n",
            "DEBUG:flwr:evaluate_round 3: strategy sampled 4 clients (out of 9)\n",
            "DEBUG flwr 2023-09-06 19:03:00,752 | server.py:187 | evaluate_round 3 received 4 results and 0 failures\n",
            "DEBUG:flwr:evaluate_round 3 received 4 results and 0 failures\n",
            "DEBUG flwr 2023-09-06 19:03:00,760 | server.py:222 | fit_round 4: strategy sampled 9 clients (out of 9)\n",
            "DEBUG:flwr:fit_round 4: strategy sampled 9 clients (out of 9)\n",
            "DEBUG flwr 2023-09-06 19:05:35,672 | server.py:236 | fit_round 4 received 9 results and 0 failures\n",
            "DEBUG:flwr:fit_round 4 received 9 results and 0 failures\n",
            "DEBUG flwr 2023-09-06 19:05:35,849 | server.py:173 | evaluate_round 4: strategy sampled 4 clients (out of 9)\n",
            "DEBUG:flwr:evaluate_round 4: strategy sampled 4 clients (out of 9)\n",
            "DEBUG flwr 2023-09-06 19:05:39,059 | server.py:187 | evaluate_round 4 received 4 results and 0 failures\n",
            "DEBUG:flwr:evaluate_round 4 received 4 results and 0 failures\n",
            "DEBUG flwr 2023-09-06 19:05:39,065 | server.py:222 | fit_round 5: strategy sampled 9 clients (out of 9)\n",
            "DEBUG:flwr:fit_round 5: strategy sampled 9 clients (out of 9)\n",
            "DEBUG flwr 2023-09-06 19:08:18,216 | server.py:236 | fit_round 5 received 9 results and 0 failures\n",
            "DEBUG:flwr:fit_round 5 received 9 results and 0 failures\n",
            "DEBUG flwr 2023-09-06 19:08:18,403 | server.py:173 | evaluate_round 5: strategy sampled 4 clients (out of 9)\n",
            "DEBUG:flwr:evaluate_round 5: strategy sampled 4 clients (out of 9)\n",
            "DEBUG flwr 2023-09-06 19:08:22,646 | server.py:187 | evaluate_round 5 received 4 results and 0 failures\n",
            "DEBUG:flwr:evaluate_round 5 received 4 results and 0 failures\n",
            "INFO flwr 2023-09-06 19:08:22,650 | server.py:153 | FL finished in 793.4721361379998\n",
            "INFO:flwr:FL finished in 793.4721361379998\n",
            "INFO flwr 2023-09-06 19:08:22,651 | app.py:225 | app_fit: losses_distributed [(1, 0.045653367584401916), (2, 0.03983357514847408), (3, 0.03944618424231355), (4, 0.03823516399345614), (5, 0.03803360665386373)]\n",
            "INFO:flwr:app_fit: losses_distributed [(1, 0.045653367584401916), (2, 0.03983357514847408), (3, 0.03944618424231355), (4, 0.03823516399345614), (5, 0.03803360665386373)]\n",
            "INFO flwr 2023-09-06 19:08:22,655 | app.py:226 | app_fit: metrics_distributed_fit {}\n",
            "INFO:flwr:app_fit: metrics_distributed_fit {}\n",
            "INFO flwr 2023-09-06 19:08:22,657 | app.py:227 | app_fit: metrics_distributed {}\n",
            "INFO:flwr:app_fit: metrics_distributed {}\n",
            "INFO flwr 2023-09-06 19:08:22,660 | app.py:228 | app_fit: losses_centralized []\n",
            "INFO:flwr:app_fit: losses_centralized []\n",
            "INFO flwr 2023-09-06 19:08:22,665 | app.py:229 | app_fit: metrics_centralized {}\n",
            "INFO:flwr:app_fit: metrics_centralized {}\n"
          ]
        },
        {
          "data": {
            "text/plain": [
              "History (loss, distributed):\n",
              "\tround 1: 0.045653367584401916\n",
              "\tround 2: 0.03983357514847408\n",
              "\tround 3: 0.03944618424231355\n",
              "\tround 4: 0.03823516399345614\n",
              "\tround 5: 0.03803360665386373"
            ]
          },
          "execution_count": 51,
          "metadata": {},
          "output_type": "execute_result"
        }
      ],
      "source": [
        "import ray  # Add this import statement\n",
        "import flwr as fl\n",
        "\n",
        "# Create FedAvg strategy\n",
        "strategy = fl.server.strategy.FedAvg(\n",
        "    fraction_fit=1.0,  # Sample 100% of available clients for training\n",
        "    fraction_evaluate=0.5,  # Sample 50% of available clients for evaluation\n",
        "    min_fit_clients=3,  # Never sample less than 10 clients for training\n",
        "    min_evaluate_clients=1,  # Never sample less than 5 clients for evaluation\n",
        "    min_available_clients=3,  # Wait until all 10 clients are available\n",
        ")\n",
        "\n",
        "# Specify client resources if you need GPU (defaults to 1 CPU and 0 GPU)\n",
        "client_resources = None\n",
        "if DEVICE.type == \"cuda\":\n",
        "    client_resources = {\"num_gpus\": 1}\n",
        "\n",
        "\n",
        "# Start simulation\n",
        "fl.simulation.start_simulation(\n",
        "    client_fn=client_fn,\n",
        "    num_clients=NUM_CLIENTS,\n",
        "    config=fl.server.ServerConfig(num_rounds=5),\n",
        "    strategy=strategy,\n",
        "    client_resources=client_resources,\n",
        ")\n"
      ]
    }
  ],
  "metadata": {
    "accelerator": "GPU",
    "colab": {
      "provenance": []
    },
    "kernelspec": {
      "display_name": "Python 3",
      "name": "python3"
    },
    "language_info": {
      "name": "python"
    }
  },
  "nbformat": 4,
  "nbformat_minor": 0
}