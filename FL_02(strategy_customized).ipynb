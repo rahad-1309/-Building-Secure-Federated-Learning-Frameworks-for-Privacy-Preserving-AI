{
  "nbformat": 4,
  "nbformat_minor": 0,
  "metadata": {
    "colab": {
      "provenance": []
    },
    "kernelspec": {
      "name": "python3",
      "display_name": "Python 3"
    },
    "language_info": {
      "name": "python"
    }
  },
  "cells": [
    {
      "cell_type": "code",
      "execution_count": null,
      "metadata": {
        "colab": {
          "base_uri": "https://localhost:8080/"
        },
        "id": "eHe9h4n0E7KE",
        "outputId": "b3f8ccab-e0b7-4129-80fc-b42ec9d2bf5f"
      },
      "outputs": [
        {
          "output_type": "stream",
          "name": "stdout",
          "text": [
            "\u001b[2K     \u001b[90m━━━━━━━━━━━━━━━━━━━━━━━━━━━━━━━━━━━━━━━\u001b[0m \u001b[32m200.4/200.4 kB\u001b[0m \u001b[31m2.7 MB/s\u001b[0m eta \u001b[36m0:00:00\u001b[0m\n",
            "\u001b[2K     \u001b[90m━━━━━━━━━━━━━━━━━━━━━━━━━━━━━━━━━━━━━━━━\u001b[0m \u001b[32m2.1/2.1 MB\u001b[0m \u001b[31m34.9 MB/s\u001b[0m eta \u001b[36m0:00:00\u001b[0m\n",
            "\u001b[2K     \u001b[90m━━━━━━━━━━━━━━━━━━━━━━━━━━━━━━━━━━━━━━━━\u001b[0m \u001b[32m3.1/3.1 MB\u001b[0m \u001b[31m62.7 MB/s\u001b[0m eta \u001b[36m0:00:00\u001b[0m\n",
            "\u001b[2K     \u001b[90m━━━━━━━━━━━━━━━━━━━━━━━━━━━━━━━━━━━━━━━━\u001b[0m \u001b[32m56.9/56.9 MB\u001b[0m \u001b[31m16.6 MB/s\u001b[0m eta \u001b[36m0:00:00\u001b[0m\n",
            "\u001b[2K     \u001b[90m━━━━━━━━━━━━━━━━━━━━━━━━━━━━━━━━━━━━━━\u001b[0m \u001b[32m201.4/201.4 kB\u001b[0m \u001b[31m21.3 MB/s\u001b[0m eta \u001b[36m0:00:00\u001b[0m\n",
            "\u001b[2K     \u001b[90m━━━━━━━━━━━━━━━━━━━━━━━━━━━━━━━━━━━━━━━━\u001b[0m \u001b[32m3.0/3.0 MB\u001b[0m \u001b[31m82.0 MB/s\u001b[0m eta \u001b[36m0:00:00\u001b[0m\n",
            "\u001b[2K     \u001b[90m━━━━━━━━━━━━━━━━━━━━━━━━━━━━━━━━━━━━━━━━\u001b[0m \u001b[32m98.1/98.1 kB\u001b[0m \u001b[31m9.2 MB/s\u001b[0m eta \u001b[36m0:00:00\u001b[0m\n",
            "\u001b[?25h  Installing build dependencies ... \u001b[?25l\u001b[?25hdone\n",
            "  Getting requirements to build wheel ... \u001b[?25l\u001b[?25hdone\n",
            "  Preparing metadata (pyproject.toml) ... \u001b[?25l\u001b[?25hdone\n",
            "\u001b[2K     \u001b[90m━━━━━━━━━━━━━━━━━━━━━━━━━━━━━━━━━━━━━━\u001b[0m \u001b[32m128.2/128.2 kB\u001b[0m \u001b[31m13.0 MB/s\u001b[0m eta \u001b[36m0:00:00\u001b[0m\n",
            "\u001b[2K     \u001b[90m━━━━━━━━━━━━━━━━━━━━━━━━━━━━━━━━━━━━━━━━\u001b[0m \u001b[32m8.7/8.7 MB\u001b[0m \u001b[31m63.3 MB/s\u001b[0m eta \u001b[36m0:00:00\u001b[0m\n",
            "\u001b[2K     \u001b[90m━━━━━━━━━━━━━━━━━━━━━━━━━━━━━━━━━━━━━━━━\u001b[0m \u001b[32m58.4/58.4 kB\u001b[0m \u001b[31m5.3 MB/s\u001b[0m eta \u001b[36m0:00:00\u001b[0m\n",
            "\u001b[2K     \u001b[90m━━━━━━━━━━━━━━━━━━━━━━━━━━━━━━━━━━━━━━\u001b[0m \u001b[32m468.9/468.9 kB\u001b[0m \u001b[31m32.1 MB/s\u001b[0m eta \u001b[36m0:00:00\u001b[0m\n",
            "\u001b[?25h  Building wheel for gpustat (pyproject.toml) ... \u001b[?25l\u001b[?25hdone\n"
          ]
        }
      ],
      "source": [
        "\n",
        "!pip install -q flwr[simulation] torch torchvision"
      ]
    },
    {
      "cell_type": "code",
      "source": [
        "\n",
        "from collections import OrderedDict\n",
        "from typing import Dict, List, Optional, Tuple\n",
        "\n",
        "import numpy as np\n",
        "import torch\n",
        "import torch.nn as nn\n",
        "import torch.nn.functional as F\n",
        "import torchvision.transforms as transforms\n",
        "from torch.utils.data import DataLoader, random_split\n",
        "from torchvision.datasets import CIFAR10\n",
        "\n",
        "import flwr as fl\n",
        "\n",
        "DEVICE = torch.device(\"cpu\")  # Try \"cuda\" to train on GPU\n",
        "print(\n",
        "    f\"Training on {DEVICE} using PyTorch {torch.__version__} and Flower {fl.__version__}\"\n",
        ")"
      ],
      "metadata": {
        "colab": {
          "base_uri": "https://localhost:8080/"
        },
        "id": "hyXv-RWZFXMB",
        "outputId": "874dc5a0-ca76-4d41-de04-05e3ae5f4ce7"
      },
      "execution_count": null,
      "outputs": [
        {
          "output_type": "stream",
          "name": "stdout",
          "text": [
            "Training on cpu using PyTorch 2.0.1+cu118 and Flower 1.5.0\n"
          ]
        }
      ]
    },
    {
      "cell_type": "code",
      "source": [
        "CLASSES = (\n",
        "    \"EOSINOPHIL\",\n",
        "    \"LYMPHOCYTE\",\n",
        "    \"MONOCYTE\",\n",
        "    \"NEUTROPHIL\",\n",
        ")\n"
      ],
      "metadata": {
        "id": "DceSBiFSFeVR"
      },
      "execution_count": null,
      "outputs": []
    },
    {
      "cell_type": "code",
      "source": [],
      "metadata": {
        "id": "FNzlJOEHFoUq"
      },
      "execution_count": null,
      "outputs": []
    },
    {
      "cell_type": "code",
      "source": [
        "class Net(nn.Module):\n",
        "    def __init__(self):\n",
        "        super(Net, self).__init__()\n",
        "        self.conv1 = nn.Conv2d(3, 6, 5)  # Changed input channels from 1 to 3\n",
        "        self.pool = nn.MaxPool2d(2, 2)\n",
        "        self.conv2 = nn.Conv2d(6, 16, 5)\n",
        "        self.fc1 = nn.Linear(16 * 53 * 53, 120)  # Adjusted input size based on pooling and conv layers\n",
        "        self.fc2 = nn.Linear(120, 84)\n",
        "        self.fc3 = nn.Linear(84, 10)\n",
        "\n",
        "    def forward(self, x):\n",
        "        x = self.pool(F.relu(self.conv1(x)))\n",
        "        x = self.pool(F.relu(self.conv2(x)))\n",
        "        x = x.view(x.size(0), -1)\n",
        "        x = F.relu(self.fc1(x))\n",
        "        x = F.relu(self.fc2(x))\n",
        "        x = self.fc3(x)\n",
        "        return x\n",
        "def get_parameters(net) -> List[np.ndarray]:\n",
        "    return [val.cpu().numpy() for _, val in net.state_dict().items()]\n",
        "\n",
        "\n",
        "def set_parameters(net, parameters: List[np.ndarray]):\n",
        "    params_dict = zip(net.state_dict().keys(), parameters)\n",
        "    state_dict = OrderedDict({k: torch.Tensor(v) for k, v in params_dict})\n",
        "    net.load_state_dict(state_dict, strict=True)\n",
        "\n",
        "\n",
        "def train(net, trainloader, epochs: int):\n",
        "    \"\"\"Train the network on the training set.\"\"\"\n",
        "    criterion = torch.nn.CrossEntropyLoss()\n",
        "    optimizer = torch.optim.Adam(net.parameters())\n",
        "    net.train()\n",
        "    for epoch in range(epochs):\n",
        "        correct, total, epoch_loss = 0, 0, 0.0\n",
        "        for images, labels in trainloader:\n",
        "            images, labels = images.to(DEVICE), labels.to(DEVICE)\n",
        "            optimizer.zero_grad()\n",
        "            outputs = net(images)\n",
        "            loss = criterion(net(images), labels)\n",
        "            loss.backward()\n",
        "            optimizer.step()\n",
        "            # Metrics\n",
        "            epoch_loss += loss\n",
        "            total += labels.size(0)\n",
        "            correct += (torch.max(outputs.data, 1)[1] == labels).sum().item()\n",
        "        epoch_loss /= len(trainloader.dataset)\n",
        "        epoch_acc = correct / total\n",
        "        print(f\"Epoch {epoch+1}: train loss {epoch_loss}, accuracy {epoch_acc}\")\n",
        "\n",
        "\n",
        "def test(net, testloader):\n",
        "    \"\"\"Evaluate the network on the entire test set.\"\"\"\n",
        "    criterion = torch.nn.CrossEntropyLoss()\n",
        "    correct, total, loss = 0, 0, 0.0\n",
        "    net.eval()\n",
        "    with torch.no_grad():\n",
        "        for images, labels in testloader:\n",
        "            images, labels = images.to(DEVICE), labels.to(DEVICE)\n",
        "            outputs = net(images)\n",
        "            loss += criterion(outputs, labels).item()\n",
        "            _, predicted = torch.max(outputs.data, 1)\n",
        "            total += labels.size(0)\n",
        "            correct += (predicted == labels).sum().item()\n",
        "    loss /= len(testloader.dataset)\n",
        "    accuracy = correct / total\n",
        "    return loss, accuracy"
      ],
      "metadata": {
        "id": "P7iA3L-aFqiF"
      },
      "execution_count": null,
      "outputs": []
    },
    {
      "cell_type": "code",
      "source": [
        "class FlowerClient(fl.client.NumPyClient):\n",
        "    def __init__(self, cid, net, trainloader, valloader):\n",
        "        self.cid = cid\n",
        "        self.net = net\n",
        "        self.trainloader = trainloader\n",
        "        self.valloader = valloader\n",
        "\n",
        "    def get_parameters(self, config):\n",
        "        print(f\"[Client {self.cid}] get_parameters\")\n",
        "        return get_parameters(self.net)\n",
        "\n",
        "    def fit(self, parameters, config):\n",
        "        print(f\"[Client {self.cid}] fit, config: {config}\")\n",
        "        set_parameters(self.net, parameters)\n",
        "        train(self.net, self.trainloader, epochs=1)\n",
        "        return get_parameters(self.net), len(self.trainloader), {}\n",
        "\n",
        "    def evaluate(self, parameters, config):\n",
        "        print(f\"[Client {self.cid}] evaluate, config: {config}\")\n",
        "        set_parameters(self.net, parameters)\n",
        "        loss, accuracy = test(self.net, self.valloader)\n",
        "        return float(loss), len(self.valloader), {\"accuracy\": float(accuracy)}\n",
        "\n",
        "\n",
        "def client_fn(cid) -> FlowerClient:\n",
        "    net = Net().to(DEVICE)\n",
        "    trainloader = trainloaders[int(cid)]\n",
        "    valloader = valloaders[int(cid)]\n",
        "    return FlowerClient(cid, net, trainloader, valloader)\n"
      ],
      "metadata": {
        "id": "76IRiJxJF0Kr"
      },
      "execution_count": null,
      "outputs": []
    },
    {
      "cell_type": "code",
      "source": [
        "# Create an instance of the model and get the parameters\n",
        "params = get_parameters(Net())\n",
        "\n",
        "# Pass parameters to the Strategy for server-side parameter initialization\n",
        "strategy = fl.server.strategy.FedAvg(\n",
        "    fraction_fit=0.3,\n",
        "    fraction_evaluate=0.3,\n",
        "    min_fit_clients=3,\n",
        "    min_evaluate_clients=1,\n",
        "    min_available_clients=3,\n",
        "    initial_parameters=fl.common.ndarrays_to_parameters(params),\n",
        ")\n",
        "\n",
        "# Specify client resources if you need GPU (defaults to 1 CPU and 0 GPU)\n",
        "client_resources = None\n",
        "if DEVICE.type == \"cuda\":\n",
        "    client_resources = {\"num_gpus\": 1}\n",
        "\n",
        "# Start simulation\n",
        "fl.simulation.start_simulation(\n",
        "    client_fn=client_fn,\n",
        "    num_clients=NUM_CLIENTS,\n",
        "    config=fl.server.ServerConfig(num_rounds=3),  # Just three rounds\n",
        "    strategy=strategy,\n",
        "    client_resources=client_resources,\n",
        ")\n"
      ],
      "metadata": {
        "colab": {
          "base_uri": "https://localhost:8080/"
        },
        "id": "8f1WWnO_GCv4",
        "outputId": "6dc93af4-991e-4371-c4dd-a985025e91d2"
      },
      "execution_count": null,
      "outputs": [
        {
          "output_type": "stream",
          "name": "stderr",
          "text": [
            "INFO flwr 2023-09-03 03:33:23,201 | app.py:175 | Starting Flower simulation, config: ServerConfig(num_rounds=3, round_timeout=None)\n",
            "INFO:flwr:Starting Flower simulation, config: ServerConfig(num_rounds=3, round_timeout=None)\n",
            "2023-09-03 03:33:26,759\tINFO worker.py:1621 -- Started a local Ray instance.\n",
            "INFO flwr 2023-09-03 03:33:29,721 | app.py:210 | Flower VCE: Ray initialized with resources: {'node:172.28.0.12': 1.0, 'node:__internal_head__': 1.0, 'CPU': 2.0, 'object_store_memory': 3886889779.0, 'memory': 7773779559.0}\n",
            "INFO:flwr:Flower VCE: Ray initialized with resources: {'node:172.28.0.12': 1.0, 'node:__internal_head__': 1.0, 'CPU': 2.0, 'object_store_memory': 3886889779.0, 'memory': 7773779559.0}\n",
            "INFO flwr 2023-09-03 03:33:29,729 | app.py:218 | No `client_resources` specified. Using minimal resources for clients.\n",
            "INFO:flwr:No `client_resources` specified. Using minimal resources for clients.\n",
            "INFO flwr 2023-09-03 03:33:29,743 | app.py:224 | Flower VCE: Resources for each Virtual Client: {'num_cpus': 1, 'num_gpus': 0.0}\n",
            "INFO:flwr:Flower VCE: Resources for each Virtual Client: {'num_cpus': 1, 'num_gpus': 0.0}\n",
            "INFO flwr 2023-09-03 03:33:29,789 | app.py:270 | Flower VCE: Creating VirtualClientEngineActorPool with 2 actors\n",
            "INFO:flwr:Flower VCE: Creating VirtualClientEngineActorPool with 2 actors\n",
            "INFO flwr 2023-09-03 03:33:29,793 | server.py:89 | Initializing global parameters\n",
            "INFO:flwr:Initializing global parameters\n",
            "INFO flwr 2023-09-03 03:33:29,795 | server.py:272 | Using initial parameters provided by strategy\n",
            "INFO:flwr:Using initial parameters provided by strategy\n",
            "INFO flwr 2023-09-03 03:33:29,799 | server.py:91 | Evaluating initial parameters\n",
            "INFO:flwr:Evaluating initial parameters\n",
            "INFO flwr 2023-09-03 03:33:29,804 | server.py:104 | FL starting\n",
            "INFO:flwr:FL starting\n",
            "DEBUG flwr 2023-09-03 03:33:29,809 | server.py:222 | fit_round 1: strategy sampled 3 clients (out of 3)\n",
            "DEBUG:flwr:fit_round 1: strategy sampled 3 clients (out of 3)\n",
            "\u001b[2m\u001b[36m(pid=1999)\u001b[0m 2023-09-03 03:33:34.109512: W tensorflow/compiler/tf2tensorrt/utils/py_utils.cc:38] TF-TRT Warning: Could not find TensorRT\n"
          ]
        },
        {
          "output_type": "stream",
          "name": "stdout",
          "text": [
            "\u001b[2m\u001b[36m(DefaultActor pid=2001)\u001b[0m [Client 2] fit, config: {}\n",
            "\u001b[2m\u001b[36m(DefaultActor pid=1999)\u001b[0m Epoch 1: train loss 0.041133396327495575, accuracy 0.39707112970711295\n",
            "\u001b[2m\u001b[36m(DefaultActor pid=1999)\u001b[0m [Client 1] fit, config: {}\n",
            "\u001b[2m\u001b[36m(DefaultActor pid=1999)\u001b[0m [Client 0] fit, config: {}\n"
          ]
        },
        {
          "output_type": "stream",
          "name": "stderr",
          "text": [
            "DEBUG flwr 2023-09-03 03:55:23,853 | server.py:236 | fit_round 1 received 3 results and 0 failures\n",
            "DEBUG:flwr:fit_round 1 received 3 results and 0 failures\n"
          ]
        },
        {
          "output_type": "stream",
          "name": "stdout",
          "text": [
            "\u001b[2m\u001b[36m(DefaultActor pid=1999)\u001b[0m Epoch 1: train loss 0.0409831777215004, accuracy 0.399581589958159\u001b[32m [repeated 2x across cluster] (Ray deduplicates logs by default. Set RAY_DEDUP_LOGS=0 to disable log deduplication, or see https://docs.ray.io/en/master/ray-observability/ray-logging.html#log-deduplication for more options.)\u001b[0m\n"
          ]
        },
        {
          "output_type": "stream",
          "name": "stderr",
          "text": [
            "WARNING flwr 2023-09-03 03:55:24,140 | fedavg.py:242 | No fit_metrics_aggregation_fn provided\n",
            "WARNING:flwr:No fit_metrics_aggregation_fn provided\n",
            "DEBUG flwr 2023-09-03 03:55:24,145 | server.py:173 | evaluate_round 1: strategy sampled 1 clients (out of 3)\n",
            "DEBUG:flwr:evaluate_round 1: strategy sampled 1 clients (out of 3)\n"
          ]
        },
        {
          "output_type": "stream",
          "name": "stdout",
          "text": [
            "\u001b[2m\u001b[36m(DefaultActor pid=1999)\u001b[0m [Client 1] evaluate, config: {}\n"
          ]
        },
        {
          "output_type": "stream",
          "name": "stderr",
          "text": [
            "DEBUG flwr 2023-09-03 03:56:29,395 | server.py:187 | evaluate_round 1 received 1 results and 0 failures\n",
            "DEBUG:flwr:evaluate_round 1 received 1 results and 0 failures\n",
            "WARNING flwr 2023-09-03 03:56:29,399 | fedavg.py:273 | No evaluate_metrics_aggregation_fn provided\n",
            "WARNING:flwr:No evaluate_metrics_aggregation_fn provided\n",
            "DEBUG flwr 2023-09-03 03:56:29,401 | server.py:222 | fit_round 2: strategy sampled 3 clients (out of 3)\n",
            "DEBUG:flwr:fit_round 2: strategy sampled 3 clients (out of 3)\n"
          ]
        },
        {
          "output_type": "stream",
          "name": "stdout",
          "text": [
            "\u001b[2m\u001b[36m(DefaultActor pid=1999)\u001b[0m [Client 0] fit, config: {}\n",
            "\u001b[2m\u001b[36m(DefaultActor pid=1999)\u001b[0m Epoch 1: train loss 0.035956740379333496, accuracy 0.497489539748954\n",
            "\u001b[2m\u001b[36m(DefaultActor pid=2001)\u001b[0m [Client 2] fit, config: {}\n",
            "\u001b[2m\u001b[36m(DefaultActor pid=1999)\u001b[0m [Client 1] fit, config: {}\n"
          ]
        },
        {
          "output_type": "stream",
          "name": "stderr",
          "text": [
            "DEBUG flwr 2023-09-03 04:00:01,300 | server.py:236 | fit_round 2 received 3 results and 0 failures\n",
            "DEBUG:flwr:fit_round 2 received 3 results and 0 failures\n",
            "DEBUG flwr 2023-09-03 04:00:01,423 | server.py:173 | evaluate_round 2: strategy sampled 1 clients (out of 3)\n",
            "DEBUG:flwr:evaluate_round 2: strategy sampled 1 clients (out of 3)\n"
          ]
        },
        {
          "output_type": "stream",
          "name": "stdout",
          "text": [
            "\u001b[2m\u001b[36m(DefaultActor pid=1999)\u001b[0m Epoch 1: train loss 0.036889661103487015, accuracy 0.4589958158995816\u001b[32m [repeated 2x across cluster]\u001b[0m\n",
            "\u001b[2m\u001b[36m(DefaultActor pid=1999)\u001b[0m [Client 1] evaluate, config: {}\n"
          ]
        },
        {
          "output_type": "stream",
          "name": "stderr",
          "text": [
            "DEBUG flwr 2023-09-03 04:00:04,636 | server.py:187 | evaluate_round 2 received 1 results and 0 failures\n",
            "DEBUG:flwr:evaluate_round 2 received 1 results and 0 failures\n",
            "DEBUG flwr 2023-09-03 04:00:04,646 | server.py:222 | fit_round 3: strategy sampled 3 clients (out of 3)\n",
            "DEBUG:flwr:fit_round 3: strategy sampled 3 clients (out of 3)\n"
          ]
        },
        {
          "output_type": "stream",
          "name": "stdout",
          "text": [
            "\u001b[2m\u001b[36m(DefaultActor pid=1999)\u001b[0m [Client 2] fit, config: {}\n",
            "\u001b[2m\u001b[36m(DefaultActor pid=1999)\u001b[0m Epoch 1: train loss 0.0357535183429718, accuracy 0.48493723849372383\n",
            "\u001b[2m\u001b[36m(DefaultActor pid=2001)\u001b[0m [Client 0] fit, config: {}\n",
            "\u001b[2m\u001b[36m(DefaultActor pid=1999)\u001b[0m [Client 1] fit, config: {}\n",
            "\u001b[2m\u001b[36m(DefaultActor pid=2001)\u001b[0m Epoch 1: train loss 0.034476786851882935, accuracy 0.5133891213389121\n"
          ]
        },
        {
          "output_type": "stream",
          "name": "stderr",
          "text": [
            "DEBUG flwr 2023-09-03 04:03:30,299 | server.py:236 | fit_round 3 received 3 results and 0 failures\n",
            "DEBUG:flwr:fit_round 3 received 3 results and 0 failures\n",
            "DEBUG flwr 2023-09-03 04:03:30,426 | server.py:173 | evaluate_round 3: strategy sampled 1 clients (out of 3)\n",
            "DEBUG:flwr:evaluate_round 3: strategy sampled 1 clients (out of 3)\n"
          ]
        },
        {
          "output_type": "stream",
          "name": "stdout",
          "text": [
            "\u001b[2m\u001b[36m(DefaultActor pid=1999)\u001b[0m Epoch 1: train loss 0.03506774082779884, accuracy 0.4920502092050209\n",
            "\u001b[2m\u001b[36m(DefaultActor pid=1999)\u001b[0m [Client 0] evaluate, config: {}\n"
          ]
        },
        {
          "output_type": "stream",
          "name": "stderr",
          "text": [
            "DEBUG flwr 2023-09-03 04:04:33,186 | server.py:187 | evaluate_round 3 received 1 results and 0 failures\n",
            "DEBUG:flwr:evaluate_round 3 received 1 results and 0 failures\n",
            "INFO flwr 2023-09-03 04:04:33,191 | server.py:153 | FL finished in 1863.3823381760003\n",
            "INFO:flwr:FL finished in 1863.3823381760003\n",
            "INFO flwr 2023-09-03 04:04:33,196 | app.py:225 | app_fit: losses_distributed [(1, 0.04197251526814587), (2, 0.039351245592225276), (3, 0.037191133229237686)]\n",
            "INFO:flwr:app_fit: losses_distributed [(1, 0.04197251526814587), (2, 0.039351245592225276), (3, 0.037191133229237686)]\n",
            "INFO flwr 2023-09-03 04:04:33,199 | app.py:226 | app_fit: metrics_distributed_fit {}\n",
            "INFO:flwr:app_fit: metrics_distributed_fit {}\n",
            "INFO flwr 2023-09-03 04:04:33,201 | app.py:227 | app_fit: metrics_distributed {}\n",
            "INFO:flwr:app_fit: metrics_distributed {}\n",
            "INFO flwr 2023-09-03 04:04:33,203 | app.py:228 | app_fit: losses_centralized []\n",
            "INFO:flwr:app_fit: losses_centralized []\n",
            "INFO flwr 2023-09-03 04:04:33,205 | app.py:229 | app_fit: metrics_centralized {}\n",
            "INFO:flwr:app_fit: metrics_centralized {}\n"
          ]
        },
        {
          "output_type": "execute_result",
          "data": {
            "text/plain": [
              "History (loss, distributed):\n",
              "\tround 1: 0.04197251526814587\n",
              "\tround 2: 0.039351245592225276\n",
              "\tround 3: 0.037191133229237686"
            ]
          },
          "metadata": {},
          "execution_count": 7
        }
      ]
    },
    {
      "cell_type": "code",
      "source": [
        "\n",
        "# Create FedAdam strategy\n",
        "strategy = fl.server.strategy.FedAdagrad(\n",
        "    fraction_fit=0.3,\n",
        "    fraction_evaluate=0.3,\n",
        "    min_fit_clients=3,\n",
        "    min_evaluate_clients=3,\n",
        "    min_available_clients=NUM_CLIENTS,\n",
        "    initial_parameters=fl.common.ndarrays_to_parameters(get_parameters(Net())),\n",
        ")\n",
        "\n",
        "# Start simulation\n",
        "fl.simulation.start_simulation(\n",
        "    client_fn=client_fn,\n",
        "    num_clients=NUM_CLIENTS,\n",
        "    config=fl.server.ServerConfig(num_rounds=3),  # Just three rounds\n",
        "    strategy=strategy,\n",
        "    client_resources=client_resources,\n",
        ")"
      ],
      "metadata": {
        "colab": {
          "base_uri": "https://localhost:8080/"
        },
        "id": "Xee5JjQeOUDJ",
        "outputId": "1aec0b9a-b039-43e5-ff51-377405bb13e9"
      },
      "execution_count": null,
      "outputs": [
        {
          "output_type": "stream",
          "name": "stderr",
          "text": [
            "INFO flwr 2023-09-03 04:08:46,245 | app.py:175 | Starting Flower simulation, config: ServerConfig(num_rounds=3, round_timeout=None)\n",
            "INFO:flwr:Starting Flower simulation, config: ServerConfig(num_rounds=3, round_timeout=None)\n",
            "2023-09-03 04:08:51,137\tINFO worker.py:1621 -- Started a local Ray instance.\n",
            "INFO flwr 2023-09-03 04:08:53,838 | app.py:210 | Flower VCE: Ray initialized with resources: {'memory': 7776323175.0, 'object_store_memory': 3888161587.0, 'CPU': 2.0, 'node:172.28.0.12': 1.0, 'node:__internal_head__': 1.0}\n",
            "INFO:flwr:Flower VCE: Ray initialized with resources: {'memory': 7776323175.0, 'object_store_memory': 3888161587.0, 'CPU': 2.0, 'node:172.28.0.12': 1.0, 'node:__internal_head__': 1.0}\n",
            "INFO flwr 2023-09-03 04:08:53,846 | app.py:218 | No `client_resources` specified. Using minimal resources for clients.\n",
            "INFO:flwr:No `client_resources` specified. Using minimal resources for clients.\n",
            "INFO flwr 2023-09-03 04:08:53,849 | app.py:224 | Flower VCE: Resources for each Virtual Client: {'num_cpus': 1, 'num_gpus': 0.0}\n",
            "INFO:flwr:Flower VCE: Resources for each Virtual Client: {'num_cpus': 1, 'num_gpus': 0.0}\n",
            "INFO flwr 2023-09-03 04:08:53,897 | app.py:270 | Flower VCE: Creating VirtualClientEngineActorPool with 2 actors\n",
            "INFO:flwr:Flower VCE: Creating VirtualClientEngineActorPool with 2 actors\n",
            "INFO flwr 2023-09-03 04:08:53,901 | server.py:89 | Initializing global parameters\n",
            "INFO:flwr:Initializing global parameters\n",
            "INFO flwr 2023-09-03 04:08:53,904 | server.py:272 | Using initial parameters provided by strategy\n",
            "INFO:flwr:Using initial parameters provided by strategy\n",
            "INFO flwr 2023-09-03 04:08:53,906 | server.py:91 | Evaluating initial parameters\n",
            "INFO:flwr:Evaluating initial parameters\n",
            "INFO flwr 2023-09-03 04:08:53,909 | server.py:104 | FL starting\n",
            "INFO:flwr:FL starting\n",
            "DEBUG flwr 2023-09-03 04:08:53,911 | server.py:222 | fit_round 1: strategy sampled 3 clients (out of 3)\n",
            "DEBUG:flwr:fit_round 1: strategy sampled 3 clients (out of 3)\n",
            "\u001b[2m\u001b[36m(pid=10939)\u001b[0m 2023-09-03 04:09:01.920393: W tensorflow/compiler/tf2tensorrt/utils/py_utils.cc:38] TF-TRT Warning: Could not find TensorRT\n"
          ]
        },
        {
          "output_type": "stream",
          "name": "stdout",
          "text": [
            "\u001b[2m\u001b[36m(DefaultActor pid=10939)\u001b[0m [Client 1] fit, config: {}\n",
            "\u001b[2m\u001b[36m(DefaultActor pid=10938)\u001b[0m Epoch 1: train loss 0.04304547607898712, accuracy 0.35648535564853556\n",
            "\u001b[2m\u001b[36m(DefaultActor pid=10938)\u001b[0m [Client 2] fit, config: {}\n",
            "\u001b[2m\u001b[36m(DefaultActor pid=10938)\u001b[0m [Client 0] fit, config: {}\n"
          ]
        },
        {
          "output_type": "stream",
          "name": "stderr",
          "text": [
            "DEBUG flwr 2023-09-03 04:12:59,058 | server.py:236 | fit_round 1 received 3 results and 0 failures\n",
            "DEBUG:flwr:fit_round 1 received 3 results and 0 failures\n",
            "WARNING flwr 2023-09-03 04:12:59,196 | fedavg.py:242 | No fit_metrics_aggregation_fn provided\n",
            "WARNING:flwr:No fit_metrics_aggregation_fn provided\n",
            "DEBUG flwr 2023-09-03 04:12:59,292 | server.py:173 | evaluate_round 1: strategy sampled 3 clients (out of 3)\n",
            "DEBUG:flwr:evaluate_round 1: strategy sampled 3 clients (out of 3)\n"
          ]
        },
        {
          "output_type": "stream",
          "name": "stdout",
          "text": [
            "\u001b[2m\u001b[36m(DefaultActor pid=10938)\u001b[0m Epoch 1: train loss 0.04054262861609459, accuracy 0.4171548117154812\u001b[32m [repeated 2x across cluster]\u001b[0m\n",
            "\u001b[2m\u001b[36m(DefaultActor pid=10938)\u001b[0m [Client 2] evaluate, config: {}\n"
          ]
        },
        {
          "output_type": "stream",
          "name": "stderr",
          "text": [
            "DEBUG flwr 2023-09-03 04:14:05,412 | server.py:187 | evaluate_round 1 received 3 results and 0 failures\n",
            "DEBUG:flwr:evaluate_round 1 received 3 results and 0 failures\n",
            "WARNING flwr 2023-09-03 04:14:05,415 | fedavg.py:273 | No evaluate_metrics_aggregation_fn provided\n",
            "WARNING:flwr:No evaluate_metrics_aggregation_fn provided\n",
            "DEBUG flwr 2023-09-03 04:14:05,419 | server.py:222 | fit_round 2: strategy sampled 3 clients (out of 3)\n",
            "DEBUG:flwr:fit_round 2: strategy sampled 3 clients (out of 3)\n"
          ]
        },
        {
          "output_type": "stream",
          "name": "stdout",
          "text": [
            "\u001b[2m\u001b[36m(DefaultActor pid=10938)\u001b[0m [Client 1] fit, config: {}\n",
            "\u001b[2m\u001b[36m(DefaultActor pid=10939)\u001b[0m [Client 0] evaluate, config: {}\u001b[32m [repeated 2x across cluster]\u001b[0m\n",
            "\u001b[2m\u001b[36m(DefaultActor pid=10939)\u001b[0m Epoch 1: train loss 17.78339958190918, accuracy 0.3234309623430962\n",
            "\u001b[2m\u001b[36m(DefaultActor pid=10939)\u001b[0m [Client 2] fit, config: {}\n",
            "\u001b[2m\u001b[36m(DefaultActor pid=10939)\u001b[0m [Client 0] fit, config: {}\n",
            "\u001b[2m\u001b[36m(DefaultActor pid=10938)\u001b[0m Epoch 1: train loss 17.201940536499023, accuracy 0.30711297071129706\n"
          ]
        },
        {
          "output_type": "stream",
          "name": "stderr",
          "text": [
            "DEBUG flwr 2023-09-03 04:17:27,285 | server.py:236 | fit_round 2 received 3 results and 0 failures\n",
            "DEBUG:flwr:fit_round 2 received 3 results and 0 failures\n"
          ]
        },
        {
          "output_type": "stream",
          "name": "stdout",
          "text": [
            "\u001b[2m\u001b[36m(DefaultActor pid=10939)\u001b[0m Epoch 1: train loss 15.81338119506836, accuracy 0.3158995815899582\n"
          ]
        },
        {
          "output_type": "stream",
          "name": "stderr",
          "text": [
            "DEBUG flwr 2023-09-03 04:17:27,519 | server.py:173 | evaluate_round 2: strategy sampled 3 clients (out of 3)\n",
            "DEBUG:flwr:evaluate_round 2: strategy sampled 3 clients (out of 3)\n"
          ]
        },
        {
          "output_type": "stream",
          "name": "stdout",
          "text": [
            "\u001b[2m\u001b[36m(DefaultActor pid=10939)\u001b[0m [Client 1] evaluate, config: {}\n"
          ]
        },
        {
          "output_type": "stream",
          "name": "stderr",
          "text": [
            "DEBUG flwr 2023-09-03 04:17:35,865 | server.py:187 | evaluate_round 2 received 3 results and 0 failures\n",
            "DEBUG:flwr:evaluate_round 2 received 3 results and 0 failures\n",
            "DEBUG flwr 2023-09-03 04:17:35,869 | server.py:222 | fit_round 3: strategy sampled 3 clients (out of 3)\n",
            "DEBUG:flwr:fit_round 3: strategy sampled 3 clients (out of 3)\n"
          ]
        },
        {
          "output_type": "stream",
          "name": "stdout",
          "text": [
            "\u001b[2m\u001b[36m(DefaultActor pid=10938)\u001b[0m [Client 0] fit, config: {}\n",
            "\u001b[2m\u001b[36m(DefaultActor pid=10939)\u001b[0m [Client 0] evaluate, config: {}\u001b[32m [repeated 2x across cluster]\u001b[0m\n",
            "\u001b[2m\u001b[36m(DefaultActor pid=10939)\u001b[0m Epoch 1: train loss 2.5799241065979004, accuracy 0.2393305439330544\n",
            "\u001b[2m\u001b[36m(DefaultActor pid=10939)\u001b[0m [Client 1] fit, config: {}\n",
            "\u001b[2m\u001b[36m(DefaultActor pid=10939)\u001b[0m [Client 2] fit, config: {}\n",
            "\u001b[2m\u001b[36m(DefaultActor pid=10938)\u001b[0m Epoch 1: train loss 2.4552619457244873, accuracy 0.25271966527196654\n"
          ]
        },
        {
          "output_type": "stream",
          "name": "stderr",
          "text": [
            "DEBUG flwr 2023-09-03 04:21:07,902 | server.py:236 | fit_round 3 received 3 results and 0 failures\n",
            "DEBUG:flwr:fit_round 3 received 3 results and 0 failures\n"
          ]
        },
        {
          "output_type": "stream",
          "name": "stdout",
          "text": [
            "\u001b[2m\u001b[36m(DefaultActor pid=10939)\u001b[0m Epoch 1: train loss 2.374307870864868, accuracy 0.2594142259414226\n"
          ]
        },
        {
          "output_type": "stream",
          "name": "stderr",
          "text": [
            "DEBUG flwr 2023-09-03 04:21:08,185 | server.py:173 | evaluate_round 3: strategy sampled 3 clients (out of 3)\n",
            "DEBUG:flwr:evaluate_round 3: strategy sampled 3 clients (out of 3)\n"
          ]
        },
        {
          "output_type": "stream",
          "name": "stdout",
          "text": [
            "\u001b[2m\u001b[36m(DefaultActor pid=10939)\u001b[0m [Client 0] evaluate, config: {}\n",
            "\u001b[2m\u001b[36m(DefaultActor pid=10939)\u001b[0m [Client 2] evaluate, config: {}\u001b[32m [repeated 2x across cluster]\u001b[0m\n"
          ]
        },
        {
          "output_type": "stream",
          "name": "stderr",
          "text": [
            "DEBUG flwr 2023-09-03 04:21:18,051 | server.py:187 | evaluate_round 3 received 3 results and 0 failures\n",
            "DEBUG:flwr:evaluate_round 3 received 3 results and 0 failures\n",
            "INFO flwr 2023-09-03 04:21:18,056 | server.py:153 | FL finished in 744.1448925119998\n",
            "INFO:flwr:FL finished in 744.1448925119998\n",
            "INFO flwr 2023-09-03 04:21:18,058 | app.py:225 | app_fit: losses_distributed [(1, 112.35262658461086), (2, 33.854831681161556), (3, 0.28944834943087594)]\n",
            "INFO:flwr:app_fit: losses_distributed [(1, 112.35262658461086), (2, 33.854831681161556), (3, 0.28944834943087594)]\n",
            "INFO flwr 2023-09-03 04:21:18,060 | app.py:226 | app_fit: metrics_distributed_fit {}\n",
            "INFO:flwr:app_fit: metrics_distributed_fit {}\n",
            "INFO flwr 2023-09-03 04:21:18,062 | app.py:227 | app_fit: metrics_distributed {}\n",
            "INFO:flwr:app_fit: metrics_distributed {}\n",
            "INFO flwr 2023-09-03 04:21:18,064 | app.py:228 | app_fit: losses_centralized []\n",
            "INFO:flwr:app_fit: losses_centralized []\n",
            "INFO flwr 2023-09-03 04:21:18,066 | app.py:229 | app_fit: metrics_centralized {}\n",
            "INFO:flwr:app_fit: metrics_centralized {}\n"
          ]
        },
        {
          "output_type": "execute_result",
          "data": {
            "text/plain": [
              "History (loss, distributed):\n",
              "\tround 1: 112.35262658461086\n",
              "\tround 2: 33.854831681161556\n",
              "\tround 3: 0.28944834943087594"
            ]
          },
          "metadata": {},
          "execution_count": 8
        }
      ]
    },
    {
      "cell_type": "code",
      "source": [
        "# The `evaluate` function will be by Flower called after every round\n",
        "def evaluate(\n",
        "    server_round: int,\n",
        "    parameters: fl.common.NDArrays,\n",
        "    config: Dict[str, fl.common.Scalar],\n",
        ") -> Optional[Tuple[float, Dict[str, fl.common.Scalar]]]:\n",
        "    net = Net().to(DEVICE)\n",
        "    valloader = valloaders[0]\n",
        "    set_parameters(net, parameters)  # Update model with the latest parameters\n",
        "    loss, accuracy = test(net, valloader)\n",
        "    print(f\"Server-side evaluation loss {loss} / accuracy {accuracy}\")\n",
        "    return loss, {\"accuracy\": accuracy}"
      ],
      "metadata": {
        "id": "8GMLoLexRVrc"
      },
      "execution_count": null,
      "outputs": []
    },
    {
      "cell_type": "code",
      "source": [
        "strategy = fl.server.strategy.FedAvg(\n",
        "    fraction_fit=0.3,\n",
        "    fraction_evaluate=0.3,\n",
        "    min_fit_clients=3,\n",
        "    min_evaluate_clients=3,\n",
        "    min_available_clients=NUM_CLIENTS,\n",
        "    initial_parameters=fl.common.ndarrays_to_parameters(get_parameters(Net())),\n",
        "    evaluate_fn=evaluate,  # Pass the evaluation function\n",
        ")\n",
        "\n",
        "fl.simulation.start_simulation(\n",
        "    client_fn=client_fn,\n",
        "    num_clients=NUM_CLIENTS,\n",
        "    config=fl.server.ServerConfig(num_rounds=3),  # Just three rounds\n",
        "    strategy=strategy,\n",
        "    client_resources=client_resources,\n",
        ")\n"
      ],
      "metadata": {
        "colab": {
          "base_uri": "https://localhost:8080/"
        },
        "id": "rVRRHkLURW9K",
        "outputId": "47f0fc0a-e209-49fa-ce6e-587d0d7c83fb"
      },
      "execution_count": null,
      "outputs": [
        {
          "output_type": "stream",
          "name": "stderr",
          "text": [
            "INFO flwr 2023-09-03 04:22:25,360 | app.py:175 | Starting Flower simulation, config: ServerConfig(num_rounds=3, round_timeout=None)\n",
            "INFO:flwr:Starting Flower simulation, config: ServerConfig(num_rounds=3, round_timeout=None)\n",
            "2023-09-03 04:22:31,726\tINFO worker.py:1621 -- Started a local Ray instance.\n",
            "INFO flwr 2023-09-03 04:22:35,085 | app.py:210 | Flower VCE: Ray initialized with resources: {'memory': 7805728359.0, 'object_store_memory': 3902864179.0, 'node:172.28.0.12': 1.0, 'node:__internal_head__': 1.0, 'CPU': 2.0}\n",
            "INFO:flwr:Flower VCE: Ray initialized with resources: {'memory': 7805728359.0, 'object_store_memory': 3902864179.0, 'node:172.28.0.12': 1.0, 'node:__internal_head__': 1.0, 'CPU': 2.0}\n",
            "INFO flwr 2023-09-03 04:22:35,101 | app.py:218 | No `client_resources` specified. Using minimal resources for clients.\n",
            "INFO:flwr:No `client_resources` specified. Using minimal resources for clients.\n",
            "INFO flwr 2023-09-03 04:22:35,134 | app.py:224 | Flower VCE: Resources for each Virtual Client: {'num_cpus': 1, 'num_gpus': 0.0}\n",
            "INFO:flwr:Flower VCE: Resources for each Virtual Client: {'num_cpus': 1, 'num_gpus': 0.0}\n",
            "INFO flwr 2023-09-03 04:22:35,233 | app.py:270 | Flower VCE: Creating VirtualClientEngineActorPool with 2 actors\n",
            "INFO:flwr:Flower VCE: Creating VirtualClientEngineActorPool with 2 actors\n",
            "INFO flwr 2023-09-03 04:22:35,243 | server.py:89 | Initializing global parameters\n",
            "INFO:flwr:Initializing global parameters\n",
            "INFO flwr 2023-09-03 04:22:35,265 | server.py:272 | Using initial parameters provided by strategy\n",
            "INFO:flwr:Using initial parameters provided by strategy\n",
            "INFO flwr 2023-09-03 04:22:35,288 | server.py:91 | Evaluating initial parameters\n",
            "INFO:flwr:Evaluating initial parameters\n",
            "INFO flwr 2023-09-03 04:22:42,757 | server.py:94 | initial parameters (loss, other metrics): 0.07887210666008715, {'accuracy': 0.0}\n",
            "INFO:flwr:initial parameters (loss, other metrics): 0.07887210666008715, {'accuracy': 0.0}\n",
            "INFO flwr 2023-09-03 04:22:42,761 | server.py:104 | FL starting\n",
            "INFO:flwr:FL starting\n",
            "DEBUG flwr 2023-09-03 04:22:42,764 | server.py:222 | fit_round 1: strategy sampled 3 clients (out of 3)\n",
            "DEBUG:flwr:fit_round 1: strategy sampled 3 clients (out of 3)\n"
          ]
        },
        {
          "output_type": "stream",
          "name": "stdout",
          "text": [
            "Server-side evaluation loss 0.07887210666008715 / accuracy 0.0\n"
          ]
        },
        {
          "output_type": "stream",
          "name": "stderr",
          "text": [
            "\u001b[2m\u001b[36m(pid=14540)\u001b[0m 2023-09-03 04:22:46.427613: W tensorflow/compiler/tf2tensorrt/utils/py_utils.cc:38] TF-TRT Warning: Could not find TensorRT\n"
          ]
        },
        {
          "output_type": "stream",
          "name": "stdout",
          "text": [
            "\u001b[2m\u001b[36m(DefaultActor pid=14540)\u001b[0m [Client 0] fit, config: {}\n",
            "\u001b[2m\u001b[36m(DefaultActor pid=14539)\u001b[0m Epoch 1: train loss 0.04214601218700409, accuracy 0.3815899581589958\n",
            "\u001b[2m\u001b[36m(DefaultActor pid=14539)\u001b[0m [Client 2] fit, config: {}\n",
            "\u001b[2m\u001b[36m(DefaultActor pid=14539)\u001b[0m [Client 1] fit, config: {}\n"
          ]
        },
        {
          "output_type": "stream",
          "name": "stderr",
          "text": [
            "DEBUG flwr 2023-09-03 04:26:37,246 | server.py:236 | fit_round 1 received 3 results and 0 failures\n",
            "DEBUG:flwr:fit_round 1 received 3 results and 0 failures\n",
            "WARNING flwr 2023-09-03 04:26:37,350 | fedavg.py:242 | No fit_metrics_aggregation_fn provided\n",
            "WARNING:flwr:No fit_metrics_aggregation_fn provided\n"
          ]
        },
        {
          "output_type": "stream",
          "name": "stdout",
          "text": [
            "\u001b[2m\u001b[36m(DefaultActor pid=14539)\u001b[0m Epoch 1: train loss 0.041527844965457916, accuracy 0.39288702928870295\u001b[32m [repeated 2x across cluster]\u001b[0m\n"
          ]
        },
        {
          "output_type": "stream",
          "name": "stderr",
          "text": [
            "INFO flwr 2023-09-03 04:26:41,078 | server.py:125 | fit progress: (1, 0.040843392318149783, {'accuracy': 0.47547169811320755}, 238.31378792999976)\n",
            "INFO:flwr:fit progress: (1, 0.040843392318149783, {'accuracy': 0.47547169811320755}, 238.31378792999976)\n",
            "DEBUG flwr 2023-09-03 04:26:41,083 | server.py:173 | evaluate_round 1: strategy sampled 3 clients (out of 3)\n",
            "DEBUG:flwr:evaluate_round 1: strategy sampled 3 clients (out of 3)\n"
          ]
        },
        {
          "output_type": "stream",
          "name": "stdout",
          "text": [
            "Server-side evaluation loss 0.040843392318149783 / accuracy 0.47547169811320755\n",
            "\u001b[2m\u001b[36m(DefaultActor pid=14539)\u001b[0m [Client 1] evaluate, config: {}\n",
            "\u001b[2m\u001b[36m(DefaultActor pid=14540)\u001b[0m [Client 0] evaluate, config: {}\u001b[32m [repeated 2x across cluster]\u001b[0m\n"
          ]
        },
        {
          "output_type": "stream",
          "name": "stderr",
          "text": [
            "DEBUG flwr 2023-09-03 04:26:51,263 | server.py:187 | evaluate_round 1 received 3 results and 0 failures\n",
            "DEBUG:flwr:evaluate_round 1 received 3 results and 0 failures\n",
            "WARNING flwr 2023-09-03 04:26:51,269 | fedavg.py:273 | No evaluate_metrics_aggregation_fn provided\n",
            "WARNING:flwr:No evaluate_metrics_aggregation_fn provided\n",
            "DEBUG flwr 2023-09-03 04:26:51,276 | server.py:222 | fit_round 2: strategy sampled 3 clients (out of 3)\n",
            "DEBUG:flwr:fit_round 2: strategy sampled 3 clients (out of 3)\n"
          ]
        },
        {
          "output_type": "stream",
          "name": "stdout",
          "text": [
            "\u001b[2m\u001b[36m(DefaultActor pid=14540)\u001b[0m [Client 1] fit, config: {}\n",
            "\u001b[2m\u001b[36m(DefaultActor pid=14540)\u001b[0m Epoch 1: train loss 0.03611372411251068, accuracy 0.48284518828451883\n",
            "\u001b[2m\u001b[36m(DefaultActor pid=14539)\u001b[0m [Client 0] fit, config: {}\n",
            "\u001b[2m\u001b[36m(DefaultActor pid=14540)\u001b[0m [Client 2] fit, config: {}\n",
            "\u001b[2m\u001b[36m(DefaultActor pid=14539)\u001b[0m Epoch 1: train loss 0.03627217561006546, accuracy 0.4899581589958159\n"
          ]
        },
        {
          "output_type": "stream",
          "name": "stderr",
          "text": [
            "DEBUG flwr 2023-09-03 04:30:18,211 | server.py:236 | fit_round 2 received 3 results and 0 failures\n",
            "DEBUG:flwr:fit_round 2 received 3 results and 0 failures\n"
          ]
        },
        {
          "output_type": "stream",
          "name": "stdout",
          "text": [
            "\u001b[2m\u001b[36m(DefaultActor pid=14540)\u001b[0m Epoch 1: train loss 0.036775924265384674, accuracy 0.4786610878661088\n"
          ]
        },
        {
          "output_type": "stream",
          "name": "stderr",
          "text": [
            "INFO flwr 2023-09-03 04:30:23,273 | server.py:125 | fit progress: (2, 0.03600107993719713, {'accuracy': 0.47924528301886793}, 460.5091170129999)\n",
            "INFO:flwr:fit progress: (2, 0.03600107993719713, {'accuracy': 0.47924528301886793}, 460.5091170129999)\n",
            "DEBUG flwr 2023-09-03 04:30:23,280 | server.py:173 | evaluate_round 2: strategy sampled 3 clients (out of 3)\n",
            "DEBUG:flwr:evaluate_round 2: strategy sampled 3 clients (out of 3)\n"
          ]
        },
        {
          "output_type": "stream",
          "name": "stdout",
          "text": [
            "Server-side evaluation loss 0.03600107993719713 / accuracy 0.47924528301886793\n",
            "\u001b[2m\u001b[36m(DefaultActor pid=14540)\u001b[0m [Client 0] evaluate, config: {}\n"
          ]
        },
        {
          "output_type": "stream",
          "name": "stderr",
          "text": [
            "DEBUG flwr 2023-09-03 04:30:31,317 | server.py:187 | evaluate_round 2 received 3 results and 0 failures\n",
            "DEBUG:flwr:evaluate_round 2 received 3 results and 0 failures\n",
            "DEBUG flwr 2023-09-03 04:30:31,323 | server.py:222 | fit_round 3: strategy sampled 3 clients (out of 3)\n",
            "DEBUG:flwr:fit_round 3: strategy sampled 3 clients (out of 3)\n"
          ]
        },
        {
          "output_type": "stream",
          "name": "stdout",
          "text": [
            "\u001b[2m\u001b[36m(DefaultActor pid=14539)\u001b[0m [Client 1] fit, config: {}\n",
            "\u001b[2m\u001b[36m(DefaultActor pid=14539)\u001b[0m [Client 1] evaluate, config: {}\u001b[32m [repeated 2x across cluster]\u001b[0m\n",
            "\u001b[2m\u001b[36m(DefaultActor pid=14540)\u001b[0m Epoch 1: train loss 0.027624016627669334, accuracy 0.6334728033472803\n",
            "\u001b[2m\u001b[36m(DefaultActor pid=14540)\u001b[0m [Client 0] fit, config: {}\n",
            "\u001b[2m\u001b[36m(DefaultActor pid=14540)\u001b[0m [Client 2] fit, config: {}\n"
          ]
        },
        {
          "output_type": "stream",
          "name": "stderr",
          "text": [
            "DEBUG flwr 2023-09-03 04:33:53,180 | server.py:236 | fit_round 3 received 3 results and 0 failures\n",
            "DEBUG:flwr:fit_round 3 received 3 results and 0 failures\n"
          ]
        },
        {
          "output_type": "stream",
          "name": "stdout",
          "text": [
            "\u001b[2m\u001b[36m(DefaultActor pid=14540)\u001b[0m Epoch 1: train loss 0.029695365577936172, accuracy 0.6083682008368201\u001b[32m [repeated 2x across cluster]\u001b[0m\n"
          ]
        },
        {
          "output_type": "stream",
          "name": "stderr",
          "text": [
            "INFO flwr 2023-09-03 04:33:57,002 | server.py:125 | fit progress: (3, 0.022709498990256833, {'accuracy': 0.7094339622641509}, 674.2373173249998)\n",
            "INFO:flwr:fit progress: (3, 0.022709498990256833, {'accuracy': 0.7094339622641509}, 674.2373173249998)\n",
            "DEBUG flwr 2023-09-03 04:33:57,006 | server.py:173 | evaluate_round 3: strategy sampled 3 clients (out of 3)\n",
            "DEBUG:flwr:evaluate_round 3: strategy sampled 3 clients (out of 3)\n"
          ]
        },
        {
          "output_type": "stream",
          "name": "stdout",
          "text": [
            "Server-side evaluation loss 0.022709498990256833 / accuracy 0.7094339622641509\n",
            "\u001b[2m\u001b[36m(DefaultActor pid=14540)\u001b[0m [Client 0] evaluate, config: {}\n",
            "\u001b[2m\u001b[36m(DefaultActor pid=14540)\u001b[0m [Client 1] evaluate, config: {}\u001b[32m [repeated 2x across cluster]\u001b[0m\n"
          ]
        },
        {
          "output_type": "stream",
          "name": "stderr",
          "text": [
            "DEBUG flwr 2023-09-03 04:34:08,408 | server.py:187 | evaluate_round 3 received 3 results and 0 failures\n",
            "DEBUG:flwr:evaluate_round 3 received 3 results and 0 failures\n",
            "INFO flwr 2023-09-03 04:34:08,411 | server.py:153 | FL finished in 685.646486787\n",
            "INFO:flwr:FL finished in 685.646486787\n",
            "INFO flwr 2023-09-03 04:34:08,413 | app.py:225 | app_fit: losses_distributed [(1, 0.041441827600107256), (2, 0.036602421526638965), (3, 0.023509229654036227)]\n",
            "INFO:flwr:app_fit: losses_distributed [(1, 0.041441827600107256), (2, 0.036602421526638965), (3, 0.023509229654036227)]\n",
            "INFO flwr 2023-09-03 04:34:08,416 | app.py:226 | app_fit: metrics_distributed_fit {}\n",
            "INFO:flwr:app_fit: metrics_distributed_fit {}\n",
            "INFO flwr 2023-09-03 04:34:08,418 | app.py:227 | app_fit: metrics_distributed {}\n",
            "INFO:flwr:app_fit: metrics_distributed {}\n",
            "INFO flwr 2023-09-03 04:34:08,420 | app.py:228 | app_fit: losses_centralized [(0, 0.07887210666008715), (1, 0.040843392318149783), (2, 0.03600107993719713), (3, 0.022709498990256833)]\n",
            "INFO:flwr:app_fit: losses_centralized [(0, 0.07887210666008715), (1, 0.040843392318149783), (2, 0.03600107993719713), (3, 0.022709498990256833)]\n",
            "INFO flwr 2023-09-03 04:34:08,422 | app.py:229 | app_fit: metrics_centralized {'accuracy': [(0, 0.0), (1, 0.47547169811320755), (2, 0.47924528301886793), (3, 0.7094339622641509)]}\n",
            "INFO:flwr:app_fit: metrics_centralized {'accuracy': [(0, 0.0), (1, 0.47547169811320755), (2, 0.47924528301886793), (3, 0.7094339622641509)]}\n"
          ]
        },
        {
          "output_type": "execute_result",
          "data": {
            "text/plain": [
              "History (loss, distributed):\n",
              "\tround 1: 0.041441827600107256\n",
              "\tround 2: 0.036602421526638965\n",
              "\tround 3: 0.023509229654036227\n",
              "History (loss, centralized):\n",
              "\tround 0: 0.07887210666008715\n",
              "\tround 1: 0.040843392318149783\n",
              "\tround 2: 0.03600107993719713\n",
              "\tround 3: 0.022709498990256833\n",
              "History (metrics, centralized):\n",
              "{'accuracy': [(0, 0.0), (1, 0.47547169811320755), (2, 0.47924528301886793), (3, 0.7094339622641509)]}"
            ]
          },
          "metadata": {},
          "execution_count": 10
        }
      ]
    },
    {
      "cell_type": "code",
      "source": [
        "class FlowerClient(fl.client.NumPyClient):\n",
        "    def __init__(self, cid, net, trainloader, valloader):\n",
        "        self.cid = cid\n",
        "        self.net = net\n",
        "        self.trainloader = trainloader\n",
        "        self.valloader = valloader\n",
        "\n",
        "    def get_parameters(self, config):\n",
        "        print(f\"[Client {self.cid}] get_parameters\")\n",
        "        return get_parameters(self.net)\n",
        "\n",
        "    def fit(self, parameters, config):\n",
        "        # Read values from config\n",
        "        server_round = config[\"server_round\"]\n",
        "        local_epochs = config[\"local_epochs\"]\n",
        "\n",
        "        # Use values provided by the config\n",
        "        print(f\"[Client {self.cid}, round {server_round}] fit, config: {config}\")\n",
        "        set_parameters(self.net, parameters)\n",
        "        train(self.net, self.trainloader, epochs=local_epochs)\n",
        "        return get_parameters(self.net), len(self.trainloader), {}\n",
        "\n",
        "    def evaluate(self, parameters, config):\n",
        "        print(f\"[Client {self.cid}] evaluate, config: {config}\")\n",
        "        set_parameters(self.net, parameters)\n",
        "        loss, accuracy = test(self.net, self.valloader)\n",
        "        return float(loss), len(self.valloader), {\"accuracy\": float(accuracy)}\n",
        "\n",
        "\n",
        "def client_fn(cid) -> FlowerClient:\n",
        "    net = Net().to(DEVICE)\n",
        "    trainloader = trainloaders[int(cid)]\n",
        "    valloader = valloaders[int(cid)]\n",
        "    return FlowerClient(cid, net, trainloader, valloader)"
      ],
      "metadata": {
        "id": "M0GzOmmjYW0N"
      },
      "execution_count": null,
      "outputs": []
    },
    {
      "cell_type": "code",
      "source": [
        "def fit_config(server_round: int):\n",
        "    \"\"\"Return training configuration dict for each round.\n",
        "\n",
        "    Perform two rounds of training with one local epoch, increase to two local\n",
        "    epochs afterwards.\n",
        "    \"\"\"\n",
        "    config = {\n",
        "        \"server_round\": server_round,  # The current round of federated learning\n",
        "        \"local_epochs\": 1 if server_round < 2 else 2,  #\n",
        "    }\n",
        "    return config"
      ],
      "metadata": {
        "id": "e998h7m_YZLE"
      },
      "execution_count": null,
      "outputs": []
    }
  ]
}